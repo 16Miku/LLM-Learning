{
  "nbformat": 4,
  "nbformat_minor": 0,
  "metadata": {
    "colab": {
      "provenance": []
    },
    "kernelspec": {
      "name": "python3",
      "display_name": "Python 3"
    },
    "language_info": {
      "name": "python"
    }
  },
  "cells": [
    {
      "cell_type": "code",
      "execution_count": null,
      "metadata": {
        "id": "KxEQ6PdzdE9W"
      },
      "outputs": [],
      "source": []
    },
    {
      "cell_type": "code",
      "source": [],
      "metadata": {
        "id": "PqUBsWwIdL2O"
      },
      "execution_count": null,
      "outputs": []
    },
    {
      "cell_type": "code",
      "source": [
        "import torch\n",
        "from torch import nn\n",
        "import matplotlib.pyplot as plt\n",
        "\n",
        "# 导入 torchvision，这是一个专门处理图片数据的强大工具\n",
        "import torchvision\n",
        "from torchvision import datasets\n",
        "from torchvision.transforms import ToTensor # 这是一个能把图片转换成Tensor的工具\n",
        "\n",
        "# --- 准备教材 ---\n",
        "\n",
        "# 1. 下载训练教材 (train_data)\n",
        "#    - root=\"data\": 教材下载到哪里\n",
        "#    - train=True:  说明这是给学生“学习”用的部分\n",
        "#    - download=True: 如果本地没有，就自动下载\n",
        "#    - transform=ToTensor(): 这是一个非常重要的步骤！\n",
        "#      它把图片从人眼看的格式(PIL Image)，转换成AI能理解的Tensor格式。\n",
        "train_data = datasets.MNIST(\n",
        "    root=\"data\",\n",
        "    train=True,\n",
        "    download=True,\n",
        "    transform=ToTensor()\n",
        ")\n",
        "\n",
        "# 2. 下载考试试卷 (test_data)\n",
        "#    - train=False: 说明这是给学生“考试”用的，它在学习中绝对不能偷看！\n",
        "test_data = datasets.MNIST(\n",
        "    root=\"data\",\n",
        "    train=False,\n",
        "    download=True,\n",
        "    transform=ToTensor()\n",
        ")\n",
        "\n",
        "print(f\"我们有 {len(train_data)} 张图片用于训练。\")\n",
        "print(f\"我们有 {len(test_data)} 张图片用于考试。\")\n",
        "\n",
        "# --- 让我们随便看一张图片和它的答案 ---\n",
        "image, label = train_data[0]\n",
        "print(f\"\\n第一张图片的形状: {image.shape}\")\n",
        "print(f\"第一张图片的答案 (标签): {label}\")\n",
        "\n",
        "plt.imshow(image.squeeze(), cmap=\"gray\") # .squeeze()是把 [1, 28, 28] 这种多余的维度去掉\n",
        "plt.title(f\"这是一个 '{label}'\")\n",
        "plt.show()\n"
      ],
      "metadata": {
        "colab": {
          "base_uri": "https://localhost:8080/",
          "height": 764
        },
        "id": "w4W1U7J1dL44",
        "outputId": "b077f925-0515-4c3e-a9c4-040d121df0da"
      },
      "execution_count": 1,
      "outputs": [
        {
          "output_type": "stream",
          "name": "stderr",
          "text": [
            "100%|██████████| 9.91M/9.91M [00:00<00:00, 33.1MB/s]\n",
            "100%|██████████| 28.9k/28.9k [00:00<00:00, 1.09MB/s]\n",
            "100%|██████████| 1.65M/1.65M [00:00<00:00, 9.64MB/s]\n",
            "100%|██████████| 4.54k/4.54k [00:00<00:00, 7.28MB/s]\n",
            "/usr/local/lib/python3.12/dist-packages/IPython/core/pylabtools.py:151: UserWarning: Glyph 36825 (\\N{CJK UNIFIED IDEOGRAPH-8FD9}) missing from font(s) DejaVu Sans.\n",
            "  fig.canvas.print_figure(bytes_io, **kw)\n",
            "/usr/local/lib/python3.12/dist-packages/IPython/core/pylabtools.py:151: UserWarning: Glyph 26159 (\\N{CJK UNIFIED IDEOGRAPH-662F}) missing from font(s) DejaVu Sans.\n",
            "  fig.canvas.print_figure(bytes_io, **kw)\n",
            "/usr/local/lib/python3.12/dist-packages/IPython/core/pylabtools.py:151: UserWarning: Glyph 19968 (\\N{CJK UNIFIED IDEOGRAPH-4E00}) missing from font(s) DejaVu Sans.\n",
            "  fig.canvas.print_figure(bytes_io, **kw)\n",
            "/usr/local/lib/python3.12/dist-packages/IPython/core/pylabtools.py:151: UserWarning: Glyph 20010 (\\N{CJK UNIFIED IDEOGRAPH-4E2A}) missing from font(s) DejaVu Sans.\n",
            "  fig.canvas.print_figure(bytes_io, **kw)\n"
          ]
        },
        {
          "output_type": "stream",
          "name": "stdout",
          "text": [
            "我们有 60000 张图片用于训练。\n",
            "我们有 10000 张图片用于考试。\n",
            "\n",
            "第一张图片的形状: torch.Size([1, 28, 28])\n",
            "第一张图片的答案 (标签): 5\n"
          ]
        },
        {
          "output_type": "display_data",
          "data": {
            "text/plain": [
              "<Figure size 640x480 with 1 Axes>"
            ],
            "image/png": "[encoded data removed]"
          },
          "metadata": {}
        }
      ]
    },
    {
      "cell_type": "code",
      "source": [],
      "metadata": {
        "id": "VuOO183UdL62"
      },
      "execution_count": null,
      "outputs": []
    },
    {
      "cell_type": "code",
      "source": [
        "from torch.utils.data import DataLoader\n",
        "\n",
        "# --- 先把教材放进“自动发牌机” ---\n",
        "BATCH_SIZE = 32 # 每次看32张图片\n",
        "train_dataloader = DataLoader(train_data, batch_size=BATCH_SIZE, shuffle=True)\n",
        "test_dataloader = DataLoader(test_data, batch_size=BATCH_SIZE, shuffle=False)\n",
        "\n",
        "# --- 创造一个CNN大脑 ---\n",
        "class MNIST_CNN_Model(nn.Module):\n",
        "    def __init__(self):\n",
        "        super().__init__()\n",
        "        # 第一个特征扫描模块\n",
        "        self.conv_block_1 = nn.Sequential(\n",
        "            # 输入通道=1(黑白), 输出通道=10(用10个扫描仪), 扫描仪大小=3x3\n",
        "            nn.Conv2d(in_channels=1, out_channels=10, kernel_size=3, stride=1, padding=1),\n",
        "            nn.ReLU(),\n",
        "            # 第二个特征扫描模块\n",
        "            nn.Conv2d(10, 10, kernel_size=3, stride=1, padding=1),\n",
        "            nn.ReLU(),\n",
        "            nn.MaxPool2d(kernel_size=2) # 2x2的总结摘要\n",
        "        )\n",
        "        # 第一个决策模块\n",
        "        self.classifier = nn.Sequential(\n",
        "            # nn.Flatten()：把扫描完的二维特征图，压平成一长串数字\n",
        "            nn.Flatten(),\n",
        "            # 把压平的特征，连接到一个最终的决策层\n",
        "            # 10 * 14 * 14 是压平后的特征数量，10是最终的输出类别数(0-9)\n",
        "            nn.Linear(in_features=10 * 14 * 14, out_features=10)\n",
        "        )\n",
        "\n",
        "    def forward(self, x):\n",
        "        x = self.conv_block_1(x)\n",
        "        x = self.classifier(x)\n",
        "        return x\n",
        "\n",
        "# 实例化一个学生，并把它送到GPU上（如果Colab有的话）\n",
        "device = \"cuda\" if torch.cuda.is_available() else \"cpu\"\n",
        "model = MNIST_CNN_Model().to(device)\n",
        "\n",
        "print(\"--- 这是我们CNN学生的大脑结构 ---\")\n",
        "print(model)\n"
      ],
      "metadata": {
        "colab": {
          "base_uri": "https://localhost:8080/"
        },
        "id": "BdPlTvsRdL9T",
        "outputId": "1bf92b80-2a8b-464a-8b91-58cf24299e46"
      },
      "execution_count": 2,
      "outputs": [
        {
          "output_type": "stream",
          "name": "stdout",
          "text": [
            "--- 这是我们CNN学生的大脑结构 ---\n",
            "MNIST_CNN_Model(\n",
            "  (conv_block_1): Sequential(\n",
            "    (0): Conv2d(1, 10, kernel_size=(3, 3), stride=(1, 1), padding=(1, 1))\n",
            "    (1): ReLU()\n",
            "    (2): Conv2d(10, 10, kernel_size=(3, 3), stride=(1, 1), padding=(1, 1))\n",
            "    (3): ReLU()\n",
            "    (4): MaxPool2d(kernel_size=2, stride=2, padding=0, dilation=1, ceil_mode=False)\n",
            "  )\n",
            "  (classifier): Sequential(\n",
            "    (0): Flatten(start_dim=1, end_dim=-1)\n",
            "    (1): Linear(in_features=1960, out_features=10, bias=True)\n",
            "  )\n",
            ")\n"
          ]
        }
      ]
    },
    {
      "cell_type": "code",
      "source": [],
      "metadata": {
        "id": "xZpo7jRIdL_2"
      },
      "execution_count": null,
      "outputs": []
    },
    {
      "cell_type": "code",
      "source": [
        "# --- 准备教学工具 ---\n",
        "\n",
        "# 1. 评分标准：最适合多分类问题的老师\n",
        "loss_fn = nn.CrossEntropyLoss()\n",
        "\n",
        "# 2. 反思方法：还是用强大的Adam\n",
        "optimizer = torch.optim.Adam(model.parameters(), lr=0.001)\n",
        "\n",
        "print(\"教学工具准备好了！\")\n"
      ],
      "metadata": {
        "colab": {
          "base_uri": "https://localhost:8080/"
        },
        "id": "4o_eqXytdMB6",
        "outputId": "94b1f1c4-928a-4d32-e85f-4061e15b9678"
      },
      "execution_count": 3,
      "outputs": [
        {
          "output_type": "stream",
          "name": "stdout",
          "text": [
            "教学工具准备好了！\n"
          ]
        }
      ]
    },
    {
      "cell_type": "code",
      "source": [],
      "metadata": {
        "id": "-lAjD08MdMEN"
      },
      "execution_count": null,
      "outputs": []
    },
    {
      "cell_type": "code",
      "source": [
        "from tqdm.auto import tqdm # 这是一个能显示漂亮进度条的工具\n",
        "\n",
        "# --- 开始上课 ---\n",
        "epochs = 3 # 对于这个任务，学3遍效果就已经很好了\n",
        "print(\"--- 教学开始 ---\")\n",
        "\n",
        "for epoch in tqdm(range(epochs)):\n",
        "    # --- 训练 ---\n",
        "    model.train()\n",
        "    train_loss, train_acc = 0, 0\n",
        "    for batch, (X, y) in enumerate(train_dataloader):\n",
        "        # 把数据也送到GPU\n",
        "        X, y = X.to(device), y.to(device)\n",
        "\n",
        "        # 1. 学生做题\n",
        "        y_pred = model(X)\n",
        "\n",
        "        # 2. 老师评分\n",
        "        loss = loss_fn(y_pred, y)\n",
        "        train_loss += loss.item()\n",
        "\n",
        "        # 计算准确率\n",
        "        y_pred_class = torch.argmax(torch.softmax(y_pred, dim=1), dim=1)\n",
        "        train_acc += (y_pred_class == y).sum().item() / len(y_pred)\n",
        "\n",
        "        # 3. 学生反思与调整\n",
        "        optimizer.zero_grad()\n",
        "        loss.backward()\n",
        "        optimizer.step()\n",
        "\n",
        "    # 计算平均损失和准确率\n",
        "    train_loss /= len(train_dataloader)\n",
        "    train_acc /= len(train_dataloader)\n",
        "\n",
        "    print(f\"第 {epoch+1} 遍学习成果 -> 训练差距(Loss): {train_loss:.4f} | 训练准确率: {train_acc*100:.2f}%\")\n",
        "\n",
        "print(\"--- 教学结束 ---\")\n"
      ],
      "metadata": {
        "colab": {
          "base_uri": "https://localhost:8080/",
          "height": 141,
          "referenced_widgets": [
            "cee7312bddf649ba877ec63105cb4a99",
            "3f5f2951b163499b8a54024af353a90f",
            "d2ad2d28775e4262a552e3e6984d6023",
            "21dd1c872e6545c48833fe3661502d87",
            "9b8422bb58034efeb758abdbd7335345",
            "fd1b91863721489dbd4fadc79975a493",
            "38abd8a6d6e5470382c18b780ec4875d",
            "cf83c77c79cb426b943110689f516dc2",
            "5ce82bcaba0140d38000eb7590c43a8f",
            "361eb81a21c147be9a048cba5684d658",
            "2fdd387da4294bb58c1bcf2689094993"
          ]
        },
        "id": "80k5rOjXdMGm",
        "outputId": "7a7f2745-39d8-4254-85e7-3cbad07daa49"
      },
      "execution_count": 4,
      "outputs": [
        {
          "metadata": {
            "tags": null
          },
          "name": "stdout",
          "output_type": "stream",
          "text": [
            "--- 教学开始 ---\n"
          ]
        },
        {
          "data": {
            "application/vnd.jupyter.widget-view+json": {
              "model_id": "cee7312bddf649ba877ec63105cb4a99",
              "version_major": 2,
              "version_minor": 0
            },
            "text/plain": [
              "  0%|          | 0/3 [00:00<?, ?it/s]"
            ]
          },
          "metadata": {},
          "output_type": "display_data"
        },
        {
          "metadata": {
            "tags": null
          },
          "name": "stdout",
          "output_type": "stream",
          "text": [
            "第 1 遍学习成果 -> 训练差距(Loss): 0.2232 | 训练准确率: 93.47%\n",
            "第 2 遍学习成果 -> 训练差距(Loss): 0.0766 | 训练准确率: 97.77%\n",
            "第 3 遍学习成果 -> 训练差距(Loss): 0.0584 | 训练准确率: 98.23%\n",
            "--- 教学结束 ---\n"
          ]
        }
      ]
    },
    {
      "cell_type": "code",
      "source": [],
      "metadata": {
        "id": "Dm5GvDB7dMI5"
      },
      "execution_count": null,
      "outputs": []
    },
    {
      "cell_type": "code",
      "source": [
        "# --- 毕业统考 ---\n",
        "model.eval()\n",
        "test_loss, test_acc = 0, 0\n",
        "with torch.no_grad(): # 进入考试模式，不反思\n",
        "    for X, y in test_dataloader:\n",
        "        X, y = X.to(device), y.to(device)\n",
        "        test_pred = model(X)\n",
        "        test_loss += loss_fn(test_pred, y).item()\n",
        "        test_acc += (torch.argmax(test_pred, dim=1) == y).sum().item() / len(test_pred)\n",
        "\n",
        "    test_loss /= len(test_dataloader)\n",
        "    test_acc /= len(test_dataloader)\n",
        "\n",
        "print(f\"\\n--- 毕业考试成绩 ---\\n考试差距(Loss): {test_loss:.4f} | 考试准确率: {test_acc*100:.2f}%\")\n",
        "\n",
        "# --- 让我们随机抽几张卷子，看看它答得怎么样 ---\n",
        "import random\n",
        "test_samples = []\n",
        "test_labels = []\n",
        "for sample, label in random.sample(list(test_data), k=9):\n",
        "    test_samples.append(sample)\n",
        "    test_labels.append(label)\n",
        "\n",
        "pred_classes = []\n",
        "model.eval()\n",
        "with torch.no_grad():\n",
        "    for sample in test_samples:\n",
        "        pred_logit = model(sample.unsqueeze(0).to(device))\n",
        "        pred_prob = torch.softmax(pred_logit.squeeze(), dim=0)\n",
        "        pred_classes.append(torch.argmax(pred_prob).cpu().item())\n",
        "\n",
        "plt.figure(figsize=(9, 9))\n",
        "for i, sample in enumerate(test_samples):\n",
        "    plt.subplot(3, 3, i+1)\n",
        "    plt.imshow(sample.squeeze(), cmap=\"gray\")\n",
        "    title_text = f\"真实答案: {test_labels[i]} | AI猜: {pred_classes[i]}\"\n",
        "    # 如果猜对了是绿色，猜错了是红色\n",
        "    if test_labels[i] == pred_classes[i]:\n",
        "        plt.title(title_text, c=\"g\")\n",
        "    else:\n",
        "        plt.title(title_text, c=\"r\")\n",
        "    plt.axis(False)\n",
        "plt.show()\n"
      ],
      "metadata": {
        "colab": {
          "base_uri": "https://localhost:8080/",
          "height": 991
        },
        "id": "SL8kcmX-dMLX",
        "outputId": "360b6908-eaed-46fa-ed86-8a349e8b1d54"
      },
      "execution_count": 5,
      "outputs": [
        {
          "output_type": "stream",
          "name": "stdout",
          "text": [
            "\n",
            "--- 毕业考试成绩 ---\n",
            "考试差距(Loss): 0.0591 | 考试准确率: 98.10%\n"
          ]
        },
        {
          "output_type": "stream",
          "name": "stderr",
          "text": [
            "/usr/local/lib/python3.12/dist-packages/IPython/core/pylabtools.py:151: UserWarning: Glyph 30495 (\\N{CJK UNIFIED IDEOGRAPH-771F}) missing from font(s) DejaVu Sans.\n",
            "  fig.canvas.print_figure(bytes_io, **kw)\n",
            "/usr/local/lib/python3.12/dist-packages/IPython/core/pylabtools.py:151: UserWarning: Glyph 23454 (\\N{CJK UNIFIED IDEOGRAPH-5B9E}) missing from font(s) DejaVu Sans.\n",
            "  fig.canvas.print_figure(bytes_io, **kw)\n",
            "/usr/local/lib/python3.12/dist-packages/IPython/core/pylabtools.py:151: UserWarning: Glyph 31572 (\\N{CJK UNIFIED IDEOGRAPH-7B54}) missing from font(s) DejaVu Sans.\n",
            "  fig.canvas.print_figure(bytes_io, **kw)\n",
            "/usr/local/lib/python3.12/dist-packages/IPython/core/pylabtools.py:151: UserWarning: Glyph 26696 (\\N{CJK UNIFIED IDEOGRAPH-6848}) missing from font(s) DejaVu Sans.\n",
            "  fig.canvas.print_figure(bytes_io, **kw)\n",
            "/usr/local/lib/python3.12/dist-packages/IPython/core/pylabtools.py:151: UserWarning: Glyph 29468 (\\N{CJK UNIFIED IDEOGRAPH-731C}) missing from font(s) DejaVu Sans.\n",
            "  fig.canvas.print_figure(bytes_io, **kw)\n"
          ]
        },
        {
          "output_type": "display_data",
          "data": {
            "text/plain": [
              "<Figure size 900x900 with 9 Axes>"
            ],
            "image/png": "[encoded data removed]"
          },
          "metadata": {}
        }
      ]
    },
    {
      "cell_type": "code",
      "source": [],
      "metadata": {
        "id": "oQQZT-TRdMNv"
      },
      "execution_count": null,
      "outputs": []
    },
    {
      "cell_type": "code",
      "source": [],
      "metadata": {
        "id": "XCZMZMmddMQM"
      },
      "execution_count": null,
      "outputs": []
    },
    {
      "cell_type": "code",
      "source": [],
      "metadata": {
        "id": "3VgiT0avdMSn"
      },
      "execution_count": null,
      "outputs": []
    },
    {
      "cell_type": "code",
      "source": [],
      "metadata": {
        "id": "ii-NkMiJdMU3"
      },
      "execution_count": null,
      "outputs": []
    },
    {
      "cell_type": "code",
      "source": [],
      "metadata": {
        "id": "O1TrQNBudMXM"
      },
      "execution_count": null,
      "outputs": []
    },
    {
      "cell_type": "code",
      "source": [],
      "metadata": {
        "id": "4FQCa3SMdMZj"
      },
      "execution_count": null,
      "outputs": []
    },
    {
      "cell_type": "code",
      "source": [],
      "metadata": {
        "id": "3GAPQhXIdMb4"
      },
      "execution_count": null,
      "outputs": []
    },
    {
      "cell_type": "code",
      "source": [],
      "metadata": {
        "id": "3XVhGDf8dMeZ"
      },
      "execution_count": null,
      "outputs": []
    },
    {
      "cell_type": "code",
      "source": [],
      "metadata": {
        "id": "BVp6B4ZwdMgt"
      },
      "execution_count": null,
      "outputs": []
    },
    {
      "cell_type": "code",
      "source": [],
      "metadata": {
        "id": "8u8_OntVdMjR"
      },
      "execution_count": null,
      "outputs": []
    },
    {
      "cell_type": "code",
      "source": [],
      "metadata": {
        "id": "cSeo0twNdMl5"
      },
      "execution_count": null,
      "outputs": []
    },
    {
      "cell_type": "code",
      "source": [],
      "metadata": {
        "id": "A6HphUbRdMoP"
      },
      "execution_count": null,
      "outputs": []
    }
  ]
}