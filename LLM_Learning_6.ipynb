{
  "nbformat": 4,
  "nbformat_minor": 0,
  "metadata": {
    "colab": {
      "provenance": [],
      "gpuType": "T4"
    },
    "kernelspec": {
      "name": "python3",
      "display_name": "Python 3"
    },
    "language_info": {
      "name": "python"
    },
    "accelerator": "GPU"
  },
  "cells": [
    {
      "cell_type": "code",
      "execution_count": null,
      "metadata": {
        "id": "Ej8wqugW8oab"
      },
      "outputs": [],
      "source": []
    },
    {
      "cell_type": "markdown",
      "source": [
        "1、按照方案开始下一步，讲解理论和指导实践。\n",
        "\n",
        "2、要求用学生听得懂的通俗易懂的语言为我进行讲解和指导我进行实践。\n",
        "\n",
        "3、编程环境基于google的colab。由于我对python基础不熟练，注意代码中都要有极尽细致详细的注释，保证我能看懂所有变量，函数，语法结构和每行语句的功能，以便我能进行实践复现。\n",
        "\n",
        "4、按照\"step by step\"原则逐步指导我，并及时根据我的反馈进行调整。"
      ],
      "metadata": {
        "id": "g7bU0MXX8vUn"
      }
    },
    {
      "cell_type": "markdown",
      "source": [],
      "metadata": {
        "id": "lx22whjKeSSi"
      }
    },
    {
      "cell_type": "markdown",
      "source": [
        "好的，同学！你已经成功地炼制出了属于你自己的“丹药”——Chat-嬛嬛模型。现在，我们要进入进阶篇的最后一个、也是非常关键的一个环节了。\n",
        "\n",
        "之前我们所有的工作，都是在我们自己的“炼丹炉”（Colab笔记本）里完成的。但如果我们想让朋友也来体验一下和“嬛嬛”聊天，或者想在别的程序里调用我们训练好的模型，该怎么办呢？难道每次都要重新加载基础模型，再把LoRA插件“插”上去吗？这太麻烦了！\n",
        "\n",
        "我们需要学习如何把我们训练好的**“LoRA插件”**和**“老教授”（基础模型）**完美地**“焊接”**在一起，形成一个全新的、独立的、可以直接使用的**“甄嬛分身”**模型。然后，把这个完整的“分身”保存下来，甚至分享到Hugging Face Hub，让所有人都能一键使用！\n",
        "\n",
        "这就是我们今天要学习的核心内容：**LoRA模型的合并、保存与加载**。\n",
        "\n",
        "---\n",
        "\n",
        "### **进阶篇 · 第三步（收官）：模型的合并、保存与分享**\n",
        "### **(预计用-时: 1-1.5小时)**\n",
        "\n",
        "#### **1. 理论学习：从“外挂插件”到“内化于心”**\n",
        "\n",
        "我们再用一次“老教授”和“智能笔记本”的比喻：\n",
        "\n",
        "*   **训练时 (PEFT模型)**：我们是“**教授 + 笔记本**”的组合。教授的大脑（基础模型）是冰冻的，所有的知识都记在笔记本（LoRA适配器）上。这个组合很灵活，但每次“上课”（推理）时，都需要同时带着教授和笔记本。\n",
        "\n",
        "*   **合并与保存 (Merging)**：现在，我们要进行一个“**知识内化**”的过程。我们让老教授在下课后，花点时间把他那个小小的“智能笔记本”上所有的精华内容，都**亲手誊抄、吸收、并融入**到他自己庞大的知识体系里去。\n",
        "    *   在数学上，这个过程就是 `W_merged = W_base + BA`。即，把原始权重 `W_base` 和我们学到的那个低秩“改变” `BA` **直接加起来**，形成一个新的、完整的权重矩阵 `W_merged`。\n",
        "    *   这个“内化”完成后，那个“智能笔记本”就可以扔掉了。老教授自己，就已经**永久地学会了**“宋朝奶茶史”这门新课。他变成了一位全新的、知识更丰富的教授。\n",
        "\n",
        "**这么做的好处是什么？**\n",
        "\n",
        "1.  **推理速度更快**：\n",
        "    *   在“教授+笔记本”模式下，每次计算都需要先查一下教授的大脑，再查一下笔记本，然后把两个结果结合起来。\n",
        "    *   在“知识内化”后，我们只有一个全新的“超级教授”。每次计算只需要查一次他的大脑就行了，没有了额外的“插件”计算开销，所以**推理速度会显著提升**。\n",
        "\n",
        "2.  **部署和分享更简单**：\n",
        "    *   我们不再需要管理一个基础模型和一堆LoRA插件文件。我们直接拥有一个**单一的、完整的、开箱即用**的新模型。\n",
        "    *   你可以把它直接上传到Hugging Face Hub，你的朋友只需要用一行 `AutoModel.from_pretrained(\"你的用户名/你的甄嬛模型名\")` 就可以直接使用，完全不需要知道任何关于LoRA的细节。\n",
        "\n",
        "#### **2. 编程实践：打造并分享你的“甄嬛”完全体**\n",
        "\n",
        "我们将接着“Chat-嬛嬛”的项目，把训练好的LoRA适配器，与Llama-3-8B基础模型进行合并，然后把它推送到你的Hugging Face主页。\n",
        "\n",
        "**重要准备工作**：\n",
        "1.  **确保你的“Chat-嬛嬛”训练代码已经成功运行完毕**，并且在 `output/huanhuan` 目录下生成了类似 `checkpoint-xxx` 的文件夹。这些文件夹里就装着我们训练好的LoRA“智能笔记本”。\n",
        "2.  **准备好你的Hugging Face账号和Token**，就像我们在入门篇第四步做的那样。\n",
        "\n",
        "**实践代码（请在你训练“Chat-嬛嬛”的Colab笔记本最后，新建一个代码单元格并运行）：**\n",
        "\n",
        "```python\n",
        "# ----------------------------------------------------------------------------------\n",
        "# 场景一: 准备工作 - 加载我们的“老教授”和“智能笔记本”\n",
        "# ----------------------------------------------------------------------------------\n",
        "from transformers import AutoModelForCausalLM, AutoTokenizer\n",
        "from peft import PeftModel\n",
        "import torch\n",
        "\n",
        "# --- 定义路径 ---\n",
        "# 基础模型的路径，也就是我们之前加载的那个量化版的Llama3\n",
        "base_model_path = \"unsloth/llama-3-8b-Instruct-bnb-4bit\"\n",
        "\n",
        "# LoRA适配器(智能笔记本)的路径。\n",
        "# !! 重要 !! 请确保这里的路径指向你训练完成后的checkpoint文件夹。\n",
        "# 通常是output_dir里最后一个checkpoint，比如 \"output/huanhuan/checkpoint-700\"。\n",
        "# 你需要根据你自己的训练结果，修改下面这个路径！\n",
        "lora_path = \"./output/huanhuan/checkpoint-933\" # <--- !! 修改这里 !!\n",
        "\n",
        "# --- 加载基础模型和翻译官 ---\n",
        "# 我们需要先加载原始的、未经微调的基础模型。\n",
        "# 注意！这次我们不需要加载量化配置了，因为合并后的模型将是一个新的、全精度的模型。\n",
        "# 但是为了能在Colab里加载，我们仍然需要量化它。\n",
        "base_model = AutoModelForCausalLM.from_pretrained(\n",
        "    base_model_path,\n",
        "    torch_dtype=torch.bfloat16,\n",
        "    device_map=\"auto\",\n",
        "    trust_remote_code=True,\n",
        ")\n",
        "tokenizer = AutoTokenizer.from_pretrained(base_model_path, trust_remote_code=True)\n",
        "tokenizer.pad_token = tokenizer.eos_token\n",
        "\n",
        "print(\"基础模型和Tokenizer加载完成！\")\n",
        "\n",
        "# --- 加载LoRA适配器并应用到基础模型上 ---\n",
        "# PeftModel.from_pretrained() 这个函数，就像一个“安装插件”的工人。\n",
        "# 它接收一个基础模型(base_model)和LoRA插件的路径(lora_path)，\n",
        "# 然后返回一个“教授+笔记本”模式的、随时可以用来推理的PEFT模型。\n",
        "peft_model = PeftModel.from_pretrained(base_model, lora_path)\n",
        "\n",
        "print(f\"成功将LoRA适配器从 {lora_path} 加载到基础模型上！\")\n",
        "\n",
        "# ----------------------------------------------------------------------------------\n",
        "# 场景二: 知识内化 - “焊接”模型\n",
        "# ----------------------------------------------------------------------------------\n",
        "# .merge_and_unload() 这就是我们期待已久的“知识内化”魔法！\n",
        "# 执行这行代码后：\n",
        "# 1. 'merge': LoRA的权重会被数学上地“加”到基础模型的权重上去。\n",
        "# 2. 'unload': LoRA插件本身会被从模型中卸载掉。\n",
        "# 执行完毕后，'peft_model' 这个变量，其内容已经变成了一个全新的、完整的、\n",
        "# 知识已经融合进去的“超级教授”模型。\n",
        "merged_model = peft_model.merge_and_unload()\n",
        "\n",
        "print(\"LoRA层已成功合并到基础模型中，并已卸载PEFT插件！\")\n",
        "\n",
        "# ----------------------------------------------------------------------------------\n",
        "# 场景三: 毕业存档 - 保存与分享\n",
        "# ----------------------------------------------------------------------------------\n",
        "from huggingface_hub import notebook_login\n",
        "\n",
        "# 登录到你的Hugging Face Hub账号。\n",
        "# 会弹出一个框，你需要粘贴你的有'write'权限的Access Token。\n",
        "notebook_login()\n",
        "\n",
        "# --- 保存并上传模型 ---\n",
        "# 给你的新模型在Hugging Face Hub上起一个响亮的名字。\n",
        "# !! 务必替换成 '你的用户名/你的模型名' 格式 !!\n",
        "hub_model_id = \"YourUsername/huanhuan-llama3-8b-lora-merged\" # <--- !! 修改这里 !!\n",
        "\n",
        "# 使用 .push_to_hub() 方法，把我们这个全新的、“知识内化”后的模型推送到云端Hub。\n",
        "# 这会自动创建一个新的模型仓库。\n",
        "# private=True 参数表示将这个模型仓库设置为私有，只有你自己能看到。\n",
        "# 如果你想让所有人都能用，可以去掉这个参数或者设置为 False。\n",
        "merged_model.push_to_hub(hub_model_id, private=True)\n",
        "print(f\"合并后的模型已成功推送到Hub仓库: {hub_model_id}\")\n",
        "\n",
        "# 翻译官也需要一起上传，这样别人用的时候才能正确地编码解码。\n",
        "tokenizer.push_to_hub(hub_model_id, private=True)\n",
        "print(f\"Tokenizer已成功推送到Hub仓库: {hub_model_id}\")\n",
        "\n",
        "# ----------------------------------------------------------------------------------\n",
        "# 场景四: 终极检验 - 从你的Hub仓库“一键唤醒”甄嬛\n",
        "# ----------------------------------------------------------------------------------\n",
        "# 现在，最激动人心的时刻到了。\n",
        "# 我们可以像使用任何官方模型一样，只用我们刚刚创建的那个hub_model_id，\n",
        "# 就能一键加载我们自己的、完整的“Chat-嬛嬛”模型了！\n",
        "\n",
        "print(\"\\n--- 正在从你自己的Hub仓库进行最终验证 ---\")\n",
        "\n",
        "# 为了确保是从网络加载，我们先删除内存里的旧模型（可选，但有助于验证）\n",
        "del base_model\n",
        "del peft_model\n",
        "del merged_model\n",
        "\n",
        "# 只用一行代码，从你的个人主页加载完整的“甄嬛”模型。\n",
        "# 注意：因为我们上传的是量化模型合并后的版本，加载时也需要量化。\n",
        "final_model = AutoModelForCausalLM.from_pretrained(\n",
        "    hub_model_id,\n",
        "    torch_dtype=torch.bfloat16,\n",
        "    device_map=\"auto\",\n",
        "    trust_remote_code=True\n",
        ")\n",
        "final_tokenizer = AutoTokenizer.from_pretrained(hub_model_id, trust_remote_code=True)\n",
        "\n",
        "print(\"\\n从Hub一键加载'Chat-嬛嬛'成功！\")\n",
        "\n",
        "# --- 进行一次对话测试 ---\n",
        "prompt = \"今日阳光正好，私心想着若是能和你一起走走，那定是极好的。\"\n",
        "messages = [\n",
        "    {\"role\": \"system\", \"content\": \"你是一位精通古代宫廷言辞的女子，名叫甄嬛。\"},\n",
        "    {\"role\": \"user\", \"content\": prompt}\n",
        "]\n",
        "text = final_tokenizer.apply_chat_template(messages, tokenize=False, add_generation_prompt=True)\n",
        "model_inputs = final_tokenizer([text], return_tensors=\"pt\").to(final_model.device)\n",
        "\n",
        "generated_ids = final_model.generate(model_inputs.input_ids, max_new_tokens=256)\n",
        "generated_ids = [\n",
        "    output_ids[len(input_ids):] for input_ids, output_ids in zip(model_inputs.input_ids, generated_ids)\n",
        "]\n",
        "response = final_tokenizer.batch_decode(generated_ids, skip_special_tokens=True)[0]\n",
        "\n",
        "print('你的提问：', prompt)\n",
        "print('Chat-嬛嬛：', response)\n",
        "```\n",
        "\n",
        "#### **3. 结果解读与作业**\n",
        "\n",
        "当你成功运行完所有代码后：\n",
        "1.  你会看到模型和Tokenizer被成功上传的日志。\n",
        "2.  你可以去 `https://huggingface.co/你的用户名` 这个地址，在你的个人主页上看到一个崭新的、名为 `huanhuan-llama3-8b-lora-merged` 的模型仓库！\n",
        "3.  最终的对话测试会证明，这个从云端一键加载的模型，确实拥有了“甄嬛”的灵魂。\n",
        "\n",
        "**本节总结与作业：**\n",
        "\n",
        "1.  **拥有你的第一个专属大模型**：请务必完成所有步骤，将你的“Chat-嬛嬛”上传到你的Hub主页。这是一个值得在你的简历和个人项目里大书特书的成就！\n",
        "\n",
        "2.  **分享与交流**：尝试把你的模型设置为公开（去掉 `private=True`），然后把模型链接分享给你的朋友或者学习小组的同学，让他们也来和“嬛嬛”聊聊天，看看他们的反馈。\n",
        "\n",
        "3.  **思考题**：我们今天学习了合并LoRA。但有时，我们可能**不想**合并。比如，我有一个基础模型，同时微调了10个不同的LoRA插件（一个用于写诗，一个用于写代码，一个用于扮演甄嬛...）。在这种情况下，你觉得是“为每个插件都合并并保存一个8B的完整模型”好，还是“只保存一个8B的基础模型和10个几MB的LoRA插件，在使用时动态加载”好？为什么？这两种策略分别适用于什么样的场景？\n",
        "\n",
        "恭喜你！你已经完成了我们整个进阶篇的所有核心内容！你已经是一位能够独立完成从数据准备、高效微调、到最终模型部署分享全链路的LLM开发者了！"
      ],
      "metadata": {
        "id": "m6KhQMkk8x34"
      }
    },
    {
      "cell_type": "code",
      "source": [],
      "metadata": {
        "id": "6u8qitBf8ySI"
      },
      "execution_count": null,
      "outputs": []
    },
    {
      "cell_type": "code",
      "source": [],
      "metadata": {
        "id": "ioY9ehFy8zCj"
      },
      "execution_count": null,
      "outputs": []
    },
    {
      "cell_type": "code",
      "source": [],
      "metadata": {
        "id": "7SiiLdIt8y_t"
      },
      "execution_count": null,
      "outputs": []
    },
    {
      "cell_type": "markdown",
      "source": [
        "# 详细讲解作业和思考题"
      ],
      "metadata": {
        "id": "rhpA54MM9HgP"
      }
    },
    {
      "cell_type": "markdown",
      "source": [
        "好的，同学！我们来一起深入探讨一下最后的作业和思考题。这部分内容将帮助你从一个“技术实现者”的角度，上升到“方案设计者”的角度，让你在未来的项目中，能够根据实际需求，做出最明智、最高效的选择。\n",
        "\n",
        "---\n",
        "\n",
        "### **作业讲解：分享与交流**\n",
        "\n",
        "这个作业看似简单，但其意义深远。\n",
        "\n",
        "**1. 为什么要分享？**\n",
        "\n",
        "*   **获得反馈，持续改进**：你自己和“嬛嬛”聊天，可能会陷入思维定式。但你的朋友们会从各种意想不到的角度提出各种刁钻的问题。\n",
        "    *   他们可能会发现，你的“嬛嬛”在回答某些类型的问题时，会“人设崩塌”，突然变回一个普通的AI助手。\n",
        "    *   他们可能会发现，模型在某些话题上会产生重复的回答。\n",
        "    *   他们可能会发现一些有趣的、你没预料到的“涌现”能力。\n",
        "    *   **这些反馈，是比任何自动评估指标都宝贵的“金矿”**，它们能直接告诉你，你的模型在哪些方面做得好，哪些方面还需要用更多、更有针对性的数据去进行第二轮、第三轮的微调。\n",
        "\n",
        "*   **建立个人技术品牌**：在Hugging Face Hub上拥有一个受欢迎的、有特色的模型，就像一个程序员在GitHub上有一个高星(star)项目一样。这是你技术能力最直观、最硬核的证明。它可以帮你吸引同好、找到合作机会，甚至在求职时成为一个巨大的加分项。\n",
        "\n",
        "*   **推动开源社区发展**：你分享的模型，可能会启发其他开发者。有人可能会在你的“Chat-嬛嬛”基础上，继续微调出一个更强大的版本；有人可能会借鉴你的方法，去创造“Chat-孙悟空”或“Chat-林黛玉”。你的工作成为了社区生态的一部分，这就是开源精神的魅力。\n",
        "\n",
        "**2. 交流什么？**\n",
        "\n",
        "当你分享模型时，除了模型本身，你还应该分享：\n",
        "*   **你的训练方法**：你用了什么基础模型？LoRA的配置（`r`值等）是什么？训练了多久？\n",
        "*   **你的数据故事**：你的数据集是怎么来的？你做了哪些清洗和格式化的工作？\n",
        "*   **你的发现和思考**：你遇到了哪些坑？你是如何解决的？你觉得模型的优点和局限性在哪里？\n",
        "*   **一个好的`Model Card`（模型卡片）**：在Hugging Face模型主页上，认真填写`README.md`文件。一个清晰、详尽的模型卡片，是模型能否被社区发现和信任的关键。\n",
        "\n",
        "---\n",
        "\n",
        "### **思考题讲解：合并 vs. 动态加载 —— 两种策略的智慧**\n",
        "\n",
        "**问题：** 我有一个基础模型，同时微调了10个不同的LoRA插件。是“为每个插件都合并并保存10个8B的完整模型”好，还是“只保存一个8B的基础模型和10个几MB的LoRA插件，在使用时动态加载”好？为什么？\n",
        "\n",
        "这是一个典型的**系统设计**问题，没有绝对的对错，只有在特定场景下的优劣。我们来分析这两种策略。\n",
        "\n",
        "#### **策略一：“合并为王” (Merge and Deploy)**\n",
        "\n",
        "*   **做法**：执行10次 `merge_and_unload()`，得到10个独立的、完整的、可以直接部署的模型（比如 `Chat-甄嬛-8B`, `Chat-悟空-8B`, `Code-Helper-8B` ...）。\n",
        "*   **磁盘占用**：`1个基础模型(16G) + 10个LoRA(几十MB) ≈ 16G` (训练时) -> **`10个合并模型(160G)`** (部署时)。磁盘空间占用**暴增10倍**。\n",
        "\n",
        "*   **优点**：\n",
        "    1.  **推理性能最优**：这是最大的优点。每个模型都是一个独立的整体，没有任何额外的计算开销。当你的应用需要**极致的响应速度**时（比如一个高并发的在线聊天服务），这种方式是最好的。\n",
        "    2.  **部署简单、解耦**：每个模型都是一个独立的单元，互不依赖。你可以把“Chat-甄嬛”服务部署在一台机器上，“Code-Helper”服务部署在另一台上，管理起来非常清晰，互不影响。\n",
        "\n",
        "*   **缺点**：\n",
        "    1.  **存储成本极高**：磁盘空间占用是巨大的，这直接转化为存储成本。\n",
        "    2.  **管理和更新困难**：如果有一天，基础模型`Llama-3`升级到了`Llama-4`，你需要重新对10个任务进行微调，然后再次合并、保存、部署10个新的巨大模型，整个过程非常笨重。\n",
        "\n",
        "*   **适用场景**：\n",
        "    *   **生产环境中的高性能、高并发应用**：当你的AI服务已经非常成熟，需要为大量用户提供低延迟服务时，性能是第一位的，存储成本可以被业务价值覆盖。\n",
        "    *   **任务数量少且固定**：如果你只有一两个核心任务，那么为它们分别维护一个合并后的模型是完全可以接受的。\n",
        "    *   **模型分享与分发**：当你希望把你的模型作为一个“最终成品”分享给社区，让用户可以“一键使用”而不需要了解LoRA细节时，合并是最好的方式。\n",
        "\n",
        "#### **策略二：“插件模式” (Dynamic Loading)**\n",
        "\n",
        "*   **做法**：只保存1个基础模型和10个轻巧的LoRA适配器文件。在提供服务时，根据用户的请求，动态地将对应的LoRA插件“插”到基础模型上。\n",
        "*   **磁盘占用**：**`1个基础模型(16G) + 10个LoRA(几十MB) ≈ 16G`**。磁盘空间占用**几乎没有增加**。\n",
        "\n",
        "*   **优点**：\n",
        "    1.  **存储效率极高**：这是最大的优点。极大地节省了存储成本。\n",
        "    2.  **管理和扩展极其灵活**：\n",
        "        *   新增一个任务？只需要再训练一个几MB的LoRA插件即可。\n",
        "        *   基础模型升级？只需要把所有插件在新的基础模型上重新训练一遍（或者如果兼容，直接换），而不需要动10个庞大的部署单元。\n",
        "    3.  **支持大规模、多任务系统**：你可以轻松地支持成百上千个不同的个性化AI（比如为每个VIP用户定制一个专属的LoRA插件），这在合并模式下是不可想象的。\n",
        "\n",
        "*   **缺点**：\n",
        "    1.  **推理性能略有损失**：每次计算时，都需要额外进行LoRA矩阵的计算，会带来一点点的延迟。虽然这个延迟通常很小，但在极端追求性能的场景下可能会被关注。\n",
        "    2.  **增加了系统复杂度**：你的服务需要有一个“适配器管理层”，负责根据请求，动态地加载、卸载、切换LoRA插件。这比直接调用一个固定模型要复杂一些。\n",
        "    3.  **显存管理**：如果多个不同的LoRA插件需要同时在一个GPU上为不同用户服务，你需要更精细地管理显存（虽然现在已经有技术可以支持在同一个基础模型上同时加载多个LoRA适配器）。\n",
        "\n",
        "*   **适用场景**：\n",
        "    *   **需要支持大量不同任务或用户的平台**：比如一个“AI角色扮演”平台，上面有成百上千个不同的角色，每个角色都是一个LoRA插件。\n",
        "    *   **研发和实验阶段**：可以快速地训练和测试各种不同的LoRA模型，而不需要每次都等待漫长的模型合并和保存过程。\n",
        "    *   **资源受限的环境**：在磁盘空间非常宝贵的情况下，这是唯一的选择。\n",
        "\n",
        "---\n",
        "\n",
        "**最终结论**\n",
        "\n",
        "| 特性 | 合并为王 (Merge and Deploy) | 插件模式 (Dynamic Loading) |\n",
        "| :--- | :--- | :--- |\n",
        "| **核心思想** | 性能优先，简单部署 | 效率优先，灵活扩展 |\n",
        "| **推理速度** | **最快** | 略慢 (有微小开销) |\n",
        "| **存储成本** | **极高** | **极低** |\n",
        "| **管理复杂度**| 简单 | 较高 |\n",
        "| **适用场景** | **生产环境、高并发、任务少** | **多任务平台、研发实验、资源受限** |\n",
        "\n",
        "所以，你的选择完全取决于你的**需求**和**场景**。这两种策略都是LoRA生态中非常重要的、需要掌握的工作流。你能够思考到这一层，说明你已经具备了成为一名优秀AI系统架构师的潜力！"
      ],
      "metadata": {
        "id": "yRGVW1pe9KhX"
      }
    },
    {
      "cell_type": "code",
      "source": [],
      "metadata": {
        "id": "d1OyGbhx8y9L"
      },
      "execution_count": null,
      "outputs": []
    },
    {
      "cell_type": "code",
      "source": [],
      "metadata": {
        "id": "Dxt982Pj8y6x"
      },
      "execution_count": null,
      "outputs": []
    },
    {
      "cell_type": "code",
      "source": [],
      "metadata": {
        "id": "ljcLVsy08y4z"
      },
      "execution_count": null,
      "outputs": []
    },
    {
      "cell_type": "code",
      "source": [],
      "metadata": {
        "id": "HSCAPnW18y2s"
      },
      "execution_count": null,
      "outputs": []
    },
    {
      "cell_type": "code",
      "source": [],
      "metadata": {
        "id": "Y1vGBiDR8y0x"
      },
      "execution_count": null,
      "outputs": []
    },
    {
      "cell_type": "code",
      "source": [],
      "metadata": {
        "id": "wnFz9p8b8yyt"
      },
      "execution_count": null,
      "outputs": []
    },
    {
      "cell_type": "code",
      "source": [],
      "metadata": {
        "id": "BcS28O2d8yw1"
      },
      "execution_count": null,
      "outputs": []
    },
    {
      "cell_type": "code",
      "source": [],
      "metadata": {
        "id": "iDBG8C1E8yuu"
      },
      "execution_count": null,
      "outputs": []
    },
    {
      "cell_type": "code",
      "source": [],
      "metadata": {
        "id": "6NvTF3Av8ysg"
      },
      "execution_count": null,
      "outputs": []
    },
    {
      "cell_type": "code",
      "source": [],
      "metadata": {
        "id": "qU7YTlKd8yqg"
      },
      "execution_count": null,
      "outputs": []
    },
    {
      "cell_type": "code",
      "source": [],
      "metadata": {
        "id": "I1KoUHuy8yon"
      },
      "execution_count": null,
      "outputs": []
    },
    {
      "cell_type": "code",
      "source": [],
      "metadata": {
        "id": "Q8wpQzaq8yml"
      },
      "execution_count": null,
      "outputs": []
    },
    {
      "cell_type": "code",
      "source": [],
      "metadata": {
        "id": "7eQLihmJ8ykm"
      },
      "execution_count": null,
      "outputs": []
    },
    {
      "cell_type": "code",
      "source": [],
      "metadata": {
        "id": "SoCMJcfu8yiL"
      },
      "execution_count": null,
      "outputs": []
    },
    {
      "cell_type": "code",
      "source": [],
      "metadata": {
        "id": "ZCB94RT78yf0"
      },
      "execution_count": null,
      "outputs": []
    },
    {
      "cell_type": "code",
      "source": [],
      "metadata": {
        "id": "5lfJQ1aL8ydf"
      },
      "execution_count": null,
      "outputs": []
    },
    {
      "cell_type": "code",
      "source": [],
      "metadata": {
        "id": "U0JHSYru8ybB"
      },
      "execution_count": null,
      "outputs": []
    },
    {
      "cell_type": "code",
      "source": [],
      "metadata": {
        "id": "t4q4iv2h8yXa"
      },
      "execution_count": null,
      "outputs": []
    },
    {
      "cell_type": "code",
      "source": [],
      "metadata": {
        "id": "Zve8GhM58yUs"
      },
      "execution_count": null,
      "outputs": []
    }
  ]
}