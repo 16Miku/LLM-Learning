{
  "nbformat": 4,
  "nbformat_minor": 0,
  "metadata": {
    "colab": {
      "provenance": [],
      "gpuType": "T4"
    },
    "kernelspec": {
      "name": "python3",
      "display_name": "Python 3"
    },
    "language_info": {
      "name": "python"
    },
    "accelerator": "GPU"
  },
  "cells": [
    {
      "cell_type": "code",
      "execution_count": null,
      "metadata": {
        "id": "n0BBnoR4kEGh"
      },
      "outputs": [],
      "source": []
    },
    {
      "cell_type": "code",
      "source": [],
      "metadata": {
        "id": "heeB5dajkKzb"
      },
      "execution_count": null,
      "outputs": []
    },
    {
      "cell_type": "code",
      "source": [
        "# 在一个新的Colab Notebook中开始\n",
        "\n",
        "import torch\n",
        "from torch import nn\n",
        "import torchvision\n",
        "from torchvision import datasets\n",
        "from torchvision.transforms import ToTensor\n",
        "from torch.utils.data import DataLoader\n",
        "\n",
        "# 在 PyTorch_5.ipynb 中修改\n",
        "\n",
        "from torchvision import transforms # 确保导入 transforms\n",
        "\n",
        "# 定义一个包含标准化的、更健壮的预处理流程\n",
        "# FashionMNIST 的均值和标准差都是 0.5\n",
        "transform_with_norm = transforms.Compose([\n",
        "    ToTensor(),\n",
        "    transforms.Normalize(mean=(0.5,), std=(0.5,)) # <--- 添加了这一行！\n",
        "])\n",
        "\n",
        "# 1. 加载 Fashion-MNIST 数据集 (使用新的transform)\n",
        "train_data = datasets.FashionMNIST(\n",
        "    root=\"data\",\n",
        "    train=True,\n",
        "    download=True,\n",
        "    transform=transform_with_norm # <--- 应用新的transform\n",
        ")\n",
        "\n",
        "test_data = datasets.FashionMNIST(\n",
        "    root=\"data\",\n",
        "    train=False,\n",
        "    download=True,\n",
        "    transform=transform_with_norm # <--- 应用新的transform\n",
        ")\n",
        "\n",
        "print(\"数据已使用新的、包含标准化的流程重新加载！\")\n",
        "\n",
        "\n",
        "# 接下来，请你独立完成 DataLoader、模型构建、训练和评估...\n",
        "# ...\n"
      ],
      "metadata": {
        "colab": {
          "base_uri": "https://localhost:8080/"
        },
        "id": "7XhTgv-pkNMf",
        "outputId": "e6499930-5e23-4dec-9be9-2b289d1d35a1"
      },
      "execution_count": 1,
      "outputs": [
        {
          "output_type": "stream",
          "name": "stderr",
          "text": [
            "100%|██████████| 26.4M/26.4M [00:02<00:00, 11.4MB/s]\n",
            "100%|██████████| 29.5k/29.5k [00:00<00:00, 204kB/s]\n",
            "100%|██████████| 4.42M/4.42M [00:01<00:00, 3.77MB/s]\n",
            "100%|██████████| 5.15k/5.15k [00:00<00:00, 10.6MB/s]"
          ]
        },
        {
          "output_type": "stream",
          "name": "stdout",
          "text": [
            "数据已使用新的、包含标准化的流程重新加载！\n"
          ]
        },
        {
          "output_type": "stream",
          "name": "stderr",
          "text": [
            "\n"
          ]
        }
      ]
    },
    {
      "cell_type": "code",
      "source": [
        "import matplotlib.pyplot as plt\n",
        "\n",
        "# --- 让我们随便看一张图片和它的答案 ---\n",
        "image, label = train_data[0]\n",
        "print(f\"\\n第一张图片的形状: {image.shape}\")\n",
        "print(f\"第一张图片的答案 (标签): {label}\")\n",
        "\n",
        "plt.imshow(image.squeeze(), cmap=\"gray\") # .squeeze()是把 [1, 28, 28] 这种多余的维度去掉\n",
        "plt.title(f\"这是一个 '{label}'\")\n",
        "plt.show()"
      ],
      "metadata": {
        "colab": {
          "base_uri": "https://localhost:8080/",
          "height": 654
        },
        "id": "pAgWA-fEkVrK",
        "outputId": "2dd92e55-0f10-431b-8b32-88c2925604cb"
      },
      "execution_count": 2,
      "outputs": [
        {
          "output_type": "stream",
          "name": "stderr",
          "text": [
            "/usr/local/lib/python3.12/dist-packages/IPython/core/pylabtools.py:151: UserWarning: Glyph 36825 (\\N{CJK UNIFIED IDEOGRAPH-8FD9}) missing from font(s) DejaVu Sans.\n",
            "  fig.canvas.print_figure(bytes_io, **kw)\n",
            "/usr/local/lib/python3.12/dist-packages/IPython/core/pylabtools.py:151: UserWarning: Glyph 26159 (\\N{CJK UNIFIED IDEOGRAPH-662F}) missing from font(s) DejaVu Sans.\n",
            "  fig.canvas.print_figure(bytes_io, **kw)\n",
            "/usr/local/lib/python3.12/dist-packages/IPython/core/pylabtools.py:151: UserWarning: Glyph 19968 (\\N{CJK UNIFIED IDEOGRAPH-4E00}) missing from font(s) DejaVu Sans.\n",
            "  fig.canvas.print_figure(bytes_io, **kw)\n",
            "/usr/local/lib/python3.12/dist-packages/IPython/core/pylabtools.py:151: UserWarning: Glyph 20010 (\\N{CJK UNIFIED IDEOGRAPH-4E2A}) missing from font(s) DejaVu Sans.\n",
            "  fig.canvas.print_figure(bytes_io, **kw)\n"
          ]
        },
        {
          "output_type": "stream",
          "name": "stdout",
          "text": [
            "\n",
            "第一张图片的形状: torch.Size([1, 28, 28])\n",
            "第一张图片的答案 (标签): 9\n"
          ]
        },
        {
          "output_type": "display_data",
          "data": {
            "text/plain": [
              "<Figure size 640x480 with 1 Axes>"
            ],
            "image/png": "[encoded data removed]"
          },
          "metadata": {}
        }
      ]
    },
    {
      "cell_type": "code",
      "source": [],
      "metadata": {
        "id": "ZzvZ0GP_kVtn"
      },
      "execution_count": 2,
      "outputs": []
    },
    {
      "cell_type": "code",
      "source": [
        "from torch.utils.data import DataLoader\n",
        "\n",
        "\n",
        "BATCH_SIZE = 32\n",
        "\n",
        "train_dataloader = DataLoader(train_data,batch_size=BATCH_SIZE, shuffle=True)\n",
        "test_dataloader = DataLoader(test_data,batch_size=BATCH_SIZE, shuffle=True)\n"
      ],
      "metadata": {
        "id": "WVOFYuwTkVv2"
      },
      "execution_count": 3,
      "outputs": []
    },
    {
      "cell_type": "code",
      "source": [
        "class FashionMNIST_Model_V2(nn.Module):\n",
        "    def __init__(self):\n",
        "        super().__init__()\n",
        "        # --- 特征提取器 (变得更深了) ---\n",
        "        self.feature_extractor = nn.Sequential(\n",
        "            # 第一个卷积模块\n",
        "            nn.Conv2d(in_channels=1, out_channels=32, kernel_size=3, padding=1),\n",
        "            nn.ReLU(),\n",
        "            nn.MaxPool2d(kernel_size=2, stride=2),\n",
        "\n",
        "            # 第二个卷积模块\n",
        "            nn.Conv2d(in_channels=32, out_channels=64, kernel_size=3, padding=1),\n",
        "            nn.ReLU(),\n",
        "            nn.MaxPool2d(kernel_size=2, stride=2)\n",
        "        )\n",
        "        # --- 分类器 (现在接收更小的特征图) ---\n",
        "        self.classifier = nn.Sequential(\n",
        "            nn.Flatten(),\n",
        "            # 经过两次2x2的池化，28x28的图片变成了 7x7\n",
        "            # 最后的通道数是64\n",
        "            nn.Linear(in_features=64 * 7 * 7, out_features=10)\n",
        "        )\n",
        "\n",
        "    def forward(self, x):\n",
        "        x = self.feature_extractor(x)\n",
        "        x = self.classifier(x)\n",
        "        return x\n"
      ],
      "metadata": {
        "id": "T3oEqUizkVyM"
      },
      "execution_count": 4,
      "outputs": []
    },
    {
      "cell_type": "code",
      "source": [],
      "metadata": {
        "id": "r84oNkZdkV0j"
      },
      "execution_count": 4,
      "outputs": []
    },
    {
      "cell_type": "code",
      "source": [
        "# 实例化一个学生，并把它送到GPU上（如果Colab有的话）\n",
        "device = \"cuda\" if torch.cuda.is_available() else \"cpu\"\n",
        "model = FashionMNIST_Model_V2().to(device)\n",
        "\n",
        "print(\"--- 这是我们CNN学生的大脑结构 ---\")\n",
        "print(model)"
      ],
      "metadata": {
        "colab": {
          "base_uri": "https://localhost:8080/"
        },
        "id": "5AumfHSTkV2x",
        "outputId": "fdcdccc7-aeb2-444a-8ce4-f25004d591b9"
      },
      "execution_count": 5,
      "outputs": [
        {
          "output_type": "stream",
          "name": "stdout",
          "text": [
            "--- 这是我们CNN学生的大脑结构 ---\n",
            "FashionMNIST_Model_V2(\n",
            "  (feature_extractor): Sequential(\n",
            "    (0): Conv2d(1, 32, kernel_size=(3, 3), stride=(1, 1), padding=(1, 1))\n",
            "    (1): ReLU()\n",
            "    (2): MaxPool2d(kernel_size=2, stride=2, padding=0, dilation=1, ceil_mode=False)\n",
            "    (3): Conv2d(32, 64, kernel_size=(3, 3), stride=(1, 1), padding=(1, 1))\n",
            "    (4): ReLU()\n",
            "    (5): MaxPool2d(kernel_size=2, stride=2, padding=0, dilation=1, ceil_mode=False)\n",
            "  )\n",
            "  (classifier): Sequential(\n",
            "    (0): Flatten(start_dim=1, end_dim=-1)\n",
            "    (1): Linear(in_features=3136, out_features=10, bias=True)\n",
            "  )\n",
            ")\n"
          ]
        }
      ]
    },
    {
      "cell_type": "code",
      "source": [],
      "metadata": {
        "id": "YV4QR1Q-kV4w"
      },
      "execution_count": 5,
      "outputs": []
    },
    {
      "cell_type": "code",
      "source": [
        "# --- 准备教学工具 ---\n",
        "\n",
        "# 1. 评分标准：最适合多分类问题的老师\n",
        "loss_fn = nn.CrossEntropyLoss()\n",
        "\n",
        "# 2. 反思方法：还是用强大的Adam\n",
        "optimizer = torch.optim.Adam(model.parameters(), lr=0.001)\n",
        "\n",
        "print(\"教学工具准备好了！\")"
      ],
      "metadata": {
        "colab": {
          "base_uri": "https://localhost:8080/"
        },
        "id": "xxyETp2okV7J",
        "outputId": "2a138414-235f-4d48-c4fc-a2fe104f0570"
      },
      "execution_count": 6,
      "outputs": [
        {
          "output_type": "stream",
          "name": "stdout",
          "text": [
            "教学工具准备好了！\n"
          ]
        }
      ]
    },
    {
      "cell_type": "code",
      "source": [
        "# ... optimizer 定义之后 ...\n",
        "from torch.optim.lr_scheduler import StepLR\n",
        "\n",
        "# 定义一个学习率调度器\n",
        "# step_size=3: 每训练3个epochs\n",
        "# gamma=0.1:   就把学习率乘以0.1 (降低10倍)\n",
        "scheduler = StepLR(optimizer, step_size=3, gamma=0.1)\n",
        "\n",
        "print(\"教学工具和学习率调度器准备好了！\")\n"
      ],
      "metadata": {
        "colab": {
          "base_uri": "https://localhost:8080/"
        },
        "id": "WQ-5bT244MSC",
        "outputId": "939e8377-3f09-4a06-8932-b2e99edf97a1"
      },
      "execution_count": 7,
      "outputs": [
        {
          "output_type": "stream",
          "name": "stdout",
          "text": [
            "教学工具和学习率调度器准备好了！\n"
          ]
        }
      ]
    },
    {
      "cell_type": "code",
      "source": [],
      "metadata": {
        "id": "QJ66uL3qkNnY"
      },
      "execution_count": 7,
      "outputs": []
    },
    {
      "cell_type": "code",
      "source": [
        "from tqdm.auto import tqdm # 这是一个能显示漂亮进度条的工具\n",
        "\n",
        "# --- 开始上课 ---\n",
        "epochs = 30\n",
        "print(\"--- 教学开始 ---\")\n",
        "\n",
        "for epoch in tqdm(range(epochs)):\n",
        "    # --- 训练 ---\n",
        "    model.train()\n",
        "    train_loss, train_acc = 0, 0\n",
        "    for batch, (X, y) in enumerate(train_dataloader):\n",
        "        # 把数据也送到GPU\n",
        "        X, y = X.to(device), y.to(device)\n",
        "\n",
        "        # 1. 学生做题\n",
        "        y_pred = model(X)\n",
        "\n",
        "        # 2. 老师评分\n",
        "        loss = loss_fn(y_pred, y)\n",
        "        train_loss += loss.item()\n",
        "\n",
        "        # 计算准确率\n",
        "        y_pred_class = torch.argmax(torch.softmax(y_pred, dim=1), dim=1)\n",
        "        train_acc += (y_pred_class == y).sum().item() / len(y_pred)\n",
        "\n",
        "        # 3. 学生反思与调整\n",
        "        optimizer.zero_grad()\n",
        "        loss.backward()\n",
        "        optimizer.step()\n",
        "\n",
        "    # 计算平均损失和准确率\n",
        "    train_loss /= len(train_dataloader)\n",
        "    train_acc /= len(train_dataloader)\n",
        "\n",
        "    print(f\"第 {epoch+1} 遍学习成果 -> 训练差距(Loss): {train_loss:.4f} | 训练准确率: {train_acc*100:.2f}%\")\n",
        "\n",
        "    # 在每个epoch结束后，更新学习率\n",
        "    scheduler.step() # <--- 添加这一行！\n",
        "\n",
        "print(\"--- 教学结束 ---\")"
      ],
      "metadata": {
        "colab": {
          "base_uri": "https://localhost:8080/",
          "height": 637,
          "referenced_widgets": [
            "074c2044454a4fb2bd037c5b1d39d962",
            "1cb8704728d04d75b3f8010064c8b15a",
            "0e007b5b316247ee9dfe937f23a63efc",
            "eef5398e9d6546b5b37c40ac6740b673",
            "953b58a75b89488e8e4a370752cc4c9e",
            "4f779d0f19f249e0b80ff86844f3bfca",
            "318bf0e7651547e489120212501e4dff",
            "438c32ee2b9446c9a6dece70f0db17dd",
            "63de71614e794c61be0cda6b9da4f44f",
            "251dc2f089e34f96998863e3330d5029",
            "c52a3deded4a4f41ae48127b21389930"
          ]
        },
        "id": "s0CJBSG4kNy0",
        "outputId": "4b626a49-4f57-4fb4-e1f6-ce688af7a048"
      },
      "execution_count": 8,
      "outputs": [
        {
          "output_type": "stream",
          "name": "stdout",
          "text": [
            "--- 教学开始 ---\n"
          ]
        },
        {
          "output_type": "display_data",
          "data": {
            "text/plain": [
              "  0%|          | 0/30 [00:00<?, ?it/s]"
            ],
            "application/vnd.jupyter.widget-view+json": {
              "version_major": 2,
              "version_minor": 0,
              "model_id": "074c2044454a4fb2bd037c5b1d39d962"
            }
          },
          "metadata": {}
        },
        {
          "output_type": "stream",
          "name": "stdout",
          "text": [
            "第 1 遍学习成果 -> 训练差距(Loss): 0.4068 | 训练准确率: 85.51%\n",
            "第 2 遍学习成果 -> 训练差距(Loss): 0.2736 | 训练准确率: 90.18%\n",
            "第 3 遍学习成果 -> 训练差距(Loss): 0.2303 | 训练准确率: 91.62%\n",
            "第 4 遍学习成果 -> 训练差距(Loss): 0.1747 | 训练准确率: 93.71%\n",
            "第 5 遍学习成果 -> 训练差距(Loss): 0.1650 | 训练准确率: 94.08%\n",
            "第 6 遍学习成果 -> 训练差距(Loss): 0.1591 | 训练准确率: 94.33%\n",
            "第 7 遍学习成果 -> 训练差距(Loss): 0.1511 | 训练准确率: 94.62%\n",
            "第 8 遍学习成果 -> 训练差距(Loss): 0.1500 | 训练准确率: 94.66%\n",
            "第 9 遍学习成果 -> 训练差距(Loss): 0.1494 | 训练准确率: 94.67%\n",
            "第 10 遍学习成果 -> 训练差距(Loss): 0.1484 | 训练准确率: 94.74%\n",
            "第 11 遍学习成果 -> 训练差距(Loss): 0.1483 | 训练准确率: 94.75%\n",
            "第 12 遍学习成果 -> 训练差距(Loss): 0.1483 | 训练准确率: 94.73%\n",
            "第 13 遍学习成果 -> 训练差距(Loss): 0.1481 | 训练准确率: 94.75%\n",
            "第 14 遍学习成果 -> 训练差距(Loss): 0.1481 | 训练准确率: 94.75%\n",
            "第 15 遍学习成果 -> 训练差距(Loss): 0.1481 | 训练准确率: 94.75%\n",
            "第 16 遍学习成果 -> 训练差距(Loss): 0.1481 | 训练准确率: 94.75%\n",
            "第 17 遍学习成果 -> 训练差距(Loss): 0.1481 | 训练准确率: 94.75%\n",
            "第 18 遍学习成果 -> 训练差距(Loss): 0.1481 | 训练准确率: 94.75%\n",
            "第 19 遍学习成果 -> 训练差距(Loss): 0.1481 | 训练准确率: 94.75%\n",
            "第 20 遍学习成果 -> 训练差距(Loss): 0.1481 | 训练准确率: 94.75%\n",
            "第 21 遍学习成果 -> 训练差距(Loss): 0.1481 | 训练准确率: 94.75%\n",
            "第 22 遍学习成果 -> 训练差距(Loss): 0.1481 | 训练准确率: 94.75%\n",
            "第 23 遍学习成果 -> 训练差距(Loss): 0.1481 | 训练准确率: 94.75%\n",
            "第 24 遍学习成果 -> 训练差距(Loss): 0.1481 | 训练准确率: 94.75%\n",
            "第 25 遍学习成果 -> 训练差距(Loss): 0.1481 | 训练准确率: 94.75%\n",
            "第 26 遍学习成果 -> 训练差距(Loss): 0.1481 | 训练准确率: 94.75%\n",
            "第 27 遍学习成果 -> 训练差距(Loss): 0.1481 | 训练准确率: 94.75%\n",
            "第 28 遍学习成果 -> 训练差距(Loss): 0.1481 | 训练准确率: 94.75%\n",
            "第 29 遍学习成果 -> 训练差距(Loss): 0.1481 | 训练准确率: 94.75%\n",
            "第 30 遍学习成果 -> 训练差距(Loss): 0.1481 | 训练准确率: 94.75%\n",
            "--- 教学结束 ---\n"
          ]
        }
      ]
    },
    {
      "cell_type": "code",
      "source": [],
      "metadata": {
        "id": "De4YiY78kOMd"
      },
      "execution_count": 8,
      "outputs": []
    },
    {
      "cell_type": "code",
      "source": [
        "# --- 毕业统考 ---\n",
        "model.eval()\n",
        "test_loss, test_acc = 0, 0\n",
        "with torch.no_grad(): # 进入考试模式，不反思\n",
        "    for X, y in test_dataloader:\n",
        "        X, y = X.to(device), y.to(device)\n",
        "        test_pred = model(X)\n",
        "        test_loss += loss_fn(test_pred, y).item()\n",
        "        test_acc += (torch.argmax(test_pred, dim=1) == y).sum().item() / len(test_pred)\n",
        "\n",
        "    test_loss /= len(test_dataloader)\n",
        "    test_acc /= len(test_dataloader)\n",
        "\n",
        "print(f\"\\n--- 毕业考试成绩 ---\\n考试差距(Loss): {test_loss:.4f} | 考试准确率: {test_acc*100:.2f}%\")\n",
        "\n",
        "# --- 让我们随机抽几张卷子，看看它答得怎么样 ---\n",
        "import random\n",
        "test_samples = []\n",
        "test_labels = []\n",
        "for sample, label in random.sample(list(test_data), k=9):\n",
        "    test_samples.append(sample)\n",
        "    test_labels.append(label)\n",
        "\n",
        "pred_classes = []\n",
        "model.eval()\n",
        "with torch.no_grad():\n",
        "    for sample in test_samples:\n",
        "        pred_logit = model(sample.unsqueeze(0).to(device))\n",
        "        pred_prob = torch.softmax(pred_logit.squeeze(), dim=0)\n",
        "        pred_classes.append(torch.argmax(pred_prob).cpu().item())\n",
        "\n",
        "plt.figure(figsize=(9, 9))\n",
        "for i, sample in enumerate(test_samples):\n",
        "    plt.subplot(3, 3, i+1)\n",
        "    plt.imshow(sample.squeeze(), cmap=\"gray\")\n",
        "    title_text = f\"真实答案: {test_labels[i]} | AI猜: {pred_classes[i]}\"\n",
        "    # 如果猜对了是绿色，猜错了是红色\n",
        "    if test_labels[i] == pred_classes[i]:\n",
        "        plt.title(title_text, c=\"g\")\n",
        "    else:\n",
        "        plt.title(title_text, c=\"r\")\n",
        "    plt.axis(False)\n",
        "plt.show()"
      ],
      "metadata": {
        "colab": {
          "base_uri": "https://localhost:8080/",
          "height": 991
        },
        "id": "MJb25To6kOW2",
        "outputId": "78e3fc43-0057-4ac2-f359-0808af8d6d28"
      },
      "execution_count": 9,
      "outputs": [
        {
          "output_type": "stream",
          "name": "stdout",
          "text": [
            "\n",
            "--- 毕业考试成绩 ---\n",
            "考试差距(Loss): 0.2290 | 考试准确率: 91.96%\n"
          ]
        },
        {
          "output_type": "stream",
          "name": "stderr",
          "text": [
            "/usr/local/lib/python3.12/dist-packages/IPython/core/pylabtools.py:151: UserWarning: Glyph 30495 (\\N{CJK UNIFIED IDEOGRAPH-771F}) missing from font(s) DejaVu Sans.\n",
            "  fig.canvas.print_figure(bytes_io, **kw)\n",
            "/usr/local/lib/python3.12/dist-packages/IPython/core/pylabtools.py:151: UserWarning: Glyph 23454 (\\N{CJK UNIFIED IDEOGRAPH-5B9E}) missing from font(s) DejaVu Sans.\n",
            "  fig.canvas.print_figure(bytes_io, **kw)\n",
            "/usr/local/lib/python3.12/dist-packages/IPython/core/pylabtools.py:151: UserWarning: Glyph 31572 (\\N{CJK UNIFIED IDEOGRAPH-7B54}) missing from font(s) DejaVu Sans.\n",
            "  fig.canvas.print_figure(bytes_io, **kw)\n",
            "/usr/local/lib/python3.12/dist-packages/IPython/core/pylabtools.py:151: UserWarning: Glyph 26696 (\\N{CJK UNIFIED IDEOGRAPH-6848}) missing from font(s) DejaVu Sans.\n",
            "  fig.canvas.print_figure(bytes_io, **kw)\n",
            "/usr/local/lib/python3.12/dist-packages/IPython/core/pylabtools.py:151: UserWarning: Glyph 29468 (\\N{CJK UNIFIED IDEOGRAPH-731C}) missing from font(s) DejaVu Sans.\n",
            "  fig.canvas.print_figure(bytes_io, **kw)\n"
          ]
        },
        {
          "output_type": "display_data",
          "data": {
            "text/plain": [
              "<Figure size 900x900 with 9 Axes>"
            ],
            "image/png": "[encoded data removed]"
          },
          "metadata": {}
        }
      ]
    },
    {
      "cell_type": "code",
      "source": [],
      "metadata": {
        "id": "d1PChKv8kOco"
      },
      "execution_count": 9,
      "outputs": []
    },
    {
      "cell_type": "code",
      "source": [
        "# 1. 定义类别名称 (必须和Fashion-MNIST的官方顺序一致)\n",
        "class_names = [\n",
        "    \"T-shirt/top\",\n",
        "    \"Trouser\",\n",
        "    \"Pullover\",\n",
        "    \"Dress\",\n",
        "    \"Coat\",\n",
        "    \"Sandal\",\n",
        "    \"Shirt\",\n",
        "    \"Sneaker\",\n",
        "    \"Bag\",\n",
        "    \"Ankle boot\"\n",
        "]\n",
        "\n",
        "# 2. 定义模型的保存路径\n",
        "MODEL_SAVE_PATH = \"fashion_mnist_cnn_model_v3.pth\"\n",
        "\n",
        "# 3. 保存模型的状态字典 (state_dict)\n",
        "print(f\"正在将模型保存到: {MODEL_SAVE_PATH}\")\n",
        "# 假设你训练好的模型实例叫 model\n",
        "torch.save(obj=model.state_dict(), f=MODEL_SAVE_PATH)\n",
        "print(\"模型保存成功！\")\n",
        "\n",
        "# 4. 从Colab下载模型文件到你的本地电脑\n",
        "from google.colab import files\n",
        "files.download(MODEL_SAVE_PATH)\n"
      ],
      "metadata": {
        "id": "rucF3BXBkOgd",
        "colab": {
          "base_uri": "https://localhost:8080/",
          "height": 54
        },
        "outputId": "fa1e4026-a3c9-412f-a3c1-1305c6dfd524"
      },
      "execution_count": 10,
      "outputs": [
        {
          "output_type": "stream",
          "name": "stdout",
          "text": [
            "正在将模型保存到: fashion_mnist_cnn_model_v3.pth\n",
            "模型保存成功！\n"
          ]
        },
        {
          "output_type": "display_data",
          "data": {
            "text/plain": [
              "<IPython.core.display.Javascript object>"
            ],
            "application/javascript": [
              "\n",
              "    async function download(id, filename, size) {\n",
              "      if (!google.colab.kernel.accessAllowed) {\n",
              "        return;\n",
              "      }\n",
              "      const div = document.createElement('div');\n",
              "      const label = document.createElement('label');\n",
              "      label.textContent = `Downloading \"${filename}\": `;\n",
              "      div.appendChild(label);\n",
              "      const progress = document.createElement('progress');\n",
              "      progress.max = size;\n",
              "      div.appendChild(progress);\n",
              "      document.body.appendChild(div);\n",
              "\n",
              "      const buffers = [];\n",
              "      let downloaded = 0;\n",
              "\n",
              "      const channel = await google.colab.kernel.comms.open(id);\n",
              "      // Send a message to notify the kernel that we're ready.\n",
              "      channel.send({})\n",
              "\n",
              "      for await (const message of channel.messages) {\n",
              "        // Send a message to notify the kernel that we're ready.\n",
              "        channel.send({})\n",
              "        if (message.buffers) {\n",
              "          for (const buffer of message.buffers) {\n",
              "            buffers.push(buffer);\n",
              "            downloaded += buffer.byteLength;\n",
              "            progress.value = downloaded;\n",
              "          }\n",
              "        }\n",
              "      }\n",
              "      const blob = new Blob(buffers, {type: 'application/binary'});\n",
              "      const a = document.createElement('a');\n",
              "      a.href = window.URL.createObjectURL(blob);\n",
              "      a.download = filename;\n",
              "      div.appendChild(a);\n",
              "      a.click();\n",
              "      div.remove();\n",
              "    }\n",
              "  "
            ]
          },
          "metadata": {}
        },
        {
          "output_type": "display_data",
          "data": {
            "text/plain": [
              "<IPython.core.display.Javascript object>"
            ],
            "application/javascript": [
              "download(\"download_85094f61-d74a-4525-9e87-2f30d000a321\", \"fashion_mnist_cnn_model_v3.pth\", 204409)"
            ]
          },
          "metadata": {}
        }
      ]
    },
    {
      "cell_type": "code",
      "source": [],
      "metadata": {
        "id": "QCwtUM64kOjo"
      },
      "execution_count": 10,
      "outputs": []
    },
    {
      "cell_type": "code",
      "source": [],
      "metadata": {
        "id": "AEXz3WaokOmj"
      },
      "execution_count": 10,
      "outputs": []
    },
    {
      "cell_type": "code",
      "source": [],
      "metadata": {
        "id": "8a_P7fgHkOsR"
      },
      "execution_count": 10,
      "outputs": []
    },
    {
      "cell_type": "code",
      "source": [],
      "metadata": {
        "id": "6we-lAu8kReM"
      },
      "execution_count": 10,
      "outputs": []
    }
  ]
}