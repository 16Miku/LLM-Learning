{
  "nbformat": 4,
  "nbformat_minor": 0,
  "metadata": {
    "colab": {
      "provenance": [],
      "gpuType": "T4"
    },
    "kernelspec": {
      "name": "python3",
      "display_name": "Python 3"
    },
    "language_info": {
      "name": "python"
    },
    "accelerator": "GPU",
    "widgets": {
      "application/vnd.jupyter.widget-state+json": {
        "1a7c4d7694ac4424b2e6f0498cb58a1d": {
          "model_module": "@jupyter-widgets/controls",
          "model_name": "HBoxModel",
          "model_module_version": "1.5.0",
          "state": {
            "_dom_classes": [],
            "_model_module": "@jupyter-widgets/controls",
            "_model_module_version": "1.5.0",
            "_model_name": "HBoxModel",
            "_view_count": null,
            "_view_module": "@jupyter-widgets/controls",
            "_view_module_version": "1.5.0",
            "_view_name": "HBoxView",
            "box_style": "",
            "children": [
              "IPY_MODEL_44d2e6b3681d4dcf8b05a9fffd363a93",
              "IPY_MODEL_8ce950b0df6a4abf861d05ce22ff8a76",
              "IPY_MODEL_bc6752b4cbd947b3aa1803079d2222a7"
            ],
            "layout": "IPY_MODEL_309a83cacff14de1a7b1a7c64281583f"
          }
        },
        "44d2e6b3681d4dcf8b05a9fffd363a93": {
          "model_module": "@jupyter-widgets/controls",
          "model_name": "HTMLModel",
          "model_module_version": "1.5.0",
          "state": {
            "_dom_classes": [],
            "_model_module": "@jupyter-widgets/controls",
            "_model_module_version": "1.5.0",
            "_model_name": "HTMLModel",
            "_view_count": null,
            "_view_module": "@jupyter-widgets/controls",
            "_view_module_version": "1.5.0",
            "_view_name": "HTMLView",
            "description": "",
            "description_tooltip": null,
            "layout": "IPY_MODEL_6f64ffd133ac4093b49d122ddfef5fcd",
            "placeholder": "​",
            "style": "IPY_MODEL_b20d42ee90a447409299614d0a096ea1",
            "value": "100%"
          }
        },
        "8ce950b0df6a4abf861d05ce22ff8a76": {
          "model_module": "@jupyter-widgets/controls",
          "model_name": "FloatProgressModel",
          "model_module_version": "1.5.0",
          "state": {
            "_dom_classes": [],
            "_model_module": "@jupyter-widgets/controls",
            "_model_module_version": "1.5.0",
            "_model_name": "FloatProgressModel",
            "_view_count": null,
            "_view_module": "@jupyter-widgets/controls",
            "_view_module_version": "1.5.0",
            "_view_name": "ProgressView",
            "bar_style": "success",
            "description": "",
            "description_tooltip": null,
            "layout": "IPY_MODEL_591f2af683904ff0b21b7f7c834cfac3",
            "max": 3,
            "min": 0,
            "orientation": "horizontal",
            "style": "IPY_MODEL_b52c277307794b42b18c5a1af4657c32",
            "value": 3
          }
        },
        "bc6752b4cbd947b3aa1803079d2222a7": {
          "model_module": "@jupyter-widgets/controls",
          "model_name": "HTMLModel",
          "model_module_version": "1.5.0",
          "state": {
            "_dom_classes": [],
            "_model_module": "@jupyter-widgets/controls",
            "_model_module_version": "1.5.0",
            "_model_name": "HTMLModel",
            "_view_count": null,
            "_view_module": "@jupyter-widgets/controls",
            "_view_module_version": "1.5.0",
            "_view_name": "HTMLView",
            "description": "",
            "description_tooltip": null,
            "layout": "IPY_MODEL_7922843dd97442bcb41edb2cbefc3eeb",
            "placeholder": "​",
            "style": "IPY_MODEL_186a4589c23949ba90924cab57aeeb4d",
            "value": " 3/3 [00:57&lt;00:00, 19.19s/it]"
          }
        },
        "309a83cacff14de1a7b1a7c64281583f": {
          "model_module": "@jupyter-widgets/base",
          "model_name": "LayoutModel",
          "model_module_version": "1.2.0",
          "state": {
            "_model_module": "@jupyter-widgets/base",
            "_model_module_version": "1.2.0",
            "_model_name": "LayoutModel",
            "_view_count": null,
            "_view_module": "@jupyter-widgets/base",
            "_view_module_version": "1.2.0",
            "_view_name": "LayoutView",
            "align_content": null,
            "align_items": null,
            "align_self": null,
            "border": null,
            "bottom": null,
            "display": null,
            "flex": null,
            "flex_flow": null,
            "grid_area": null,
            "grid_auto_columns": null,
            "grid_auto_flow": null,
            "grid_auto_rows": null,
            "grid_column": null,
            "grid_gap": null,
            "grid_row": null,
            "grid_template_areas": null,
            "grid_template_columns": null,
            "grid_template_rows": null,
            "height": null,
            "justify_content": null,
            "justify_items": null,
            "left": null,
            "margin": null,
            "max_height": null,
            "max_width": null,
            "min_height": null,
            "min_width": null,
            "object_fit": null,
            "object_position": null,
            "order": null,
            "overflow": null,
            "overflow_x": null,
            "overflow_y": null,
            "padding": null,
            "right": null,
            "top": null,
            "visibility": null,
            "width": null
          }
        },
        "6f64ffd133ac4093b49d122ddfef5fcd": {
          "model_module": "@jupyter-widgets/base",
          "model_name": "LayoutModel",
          "model_module_version": "1.2.0",
          "state": {
            "_model_module": "@jupyter-widgets/base",
            "_model_module_version": "1.2.0",
            "_model_name": "LayoutModel",
            "_view_count": null,
            "_view_module": "@jupyter-widgets/base",
            "_view_module_version": "1.2.0",
            "_view_name": "LayoutView",
            "align_content": null,
            "align_items": null,
            "align_self": null,
            "border": null,
            "bottom": null,
            "display": null,
            "flex": null,
            "flex_flow": null,
            "grid_area": null,
            "grid_auto_columns": null,
            "grid_auto_flow": null,
            "grid_auto_rows": null,
            "grid_column": null,
            "grid_gap": null,
            "grid_row": null,
            "grid_template_areas": null,
            "grid_template_columns": null,
            "grid_template_rows": null,
            "height": null,
            "justify_content": null,
            "justify_items": null,
            "left": null,
            "margin": null,
            "max_height": null,
            "max_width": null,
            "min_height": null,
            "min_width": null,
            "object_fit": null,
            "object_position": null,
            "order": null,
            "overflow": null,
            "overflow_x": null,
            "overflow_y": null,
            "padding": null,
            "right": null,
            "top": null,
            "visibility": null,
            "width": null
          }
        },
        "b20d42ee90a447409299614d0a096ea1": {
          "model_module": "@jupyter-widgets/controls",
          "model_name": "DescriptionStyleModel",
          "model_module_version": "1.5.0",
          "state": {
            "_model_module": "@jupyter-widgets/controls",
            "_model_module_version": "1.5.0",
            "_model_name": "DescriptionStyleModel",
            "_view_count": null,
            "_view_module": "@jupyter-widgets/base",
            "_view_module_version": "1.2.0",
            "_view_name": "StyleView",
            "description_width": ""
          }
        },
        "591f2af683904ff0b21b7f7c834cfac3": {
          "model_module": "@jupyter-widgets/base",
          "model_name": "LayoutModel",
          "model_module_version": "1.2.0",
          "state": {
            "_model_module": "@jupyter-widgets/base",
            "_model_module_version": "1.2.0",
            "_model_name": "LayoutModel",
            "_view_count": null,
            "_view_module": "@jupyter-widgets/base",
            "_view_module_version": "1.2.0",
            "_view_name": "LayoutView",
            "align_content": null,
            "align_items": null,
            "align_self": null,
            "border": null,
            "bottom": null,
            "display": null,
            "flex": null,
            "flex_flow": null,
            "grid_area": null,
            "grid_auto_columns": null,
            "grid_auto_flow": null,
            "grid_auto_rows": null,
            "grid_column": null,
            "grid_gap": null,
            "grid_row": null,
            "grid_template_areas": null,
            "grid_template_columns": null,
            "grid_template_rows": null,
            "height": null,
            "justify_content": null,
            "justify_items": null,
            "left": null,
            "margin": null,
            "max_height": null,
            "max_width": null,
            "min_height": null,
            "min_width": null,
            "object_fit": null,
            "object_position": null,
            "order": null,
            "overflow": null,
            "overflow_x": null,
            "overflow_y": null,
            "padding": null,
            "right": null,
            "top": null,
            "visibility": null,
            "width": null
          }
        },
        "b52c277307794b42b18c5a1af4657c32": {
          "model_module": "@jupyter-widgets/controls",
          "model_name": "ProgressStyleModel",
          "model_module_version": "1.5.0",
          "state": {
            "_model_module": "@jupyter-widgets/controls",
            "_model_module_version": "1.5.0",
            "_model_name": "ProgressStyleModel",
            "_view_count": null,
            "_view_module": "@jupyter-widgets/base",
            "_view_module_version": "1.2.0",
            "_view_name": "StyleView",
            "bar_color": null,
            "description_width": ""
          }
        },
        "7922843dd97442bcb41edb2cbefc3eeb": {
          "model_module": "@jupyter-widgets/base",
          "model_name": "LayoutModel",
          "model_module_version": "1.2.0",
          "state": {
            "_model_module": "@jupyter-widgets/base",
            "_model_module_version": "1.2.0",
            "_model_name": "LayoutModel",
            "_view_count": null,
            "_view_module": "@jupyter-widgets/base",
            "_view_module_version": "1.2.0",
            "_view_name": "LayoutView",
            "align_content": null,
            "align_items": null,
            "align_self": null,
            "border": null,
            "bottom": null,
            "display": null,
            "flex": null,
            "flex_flow": null,
            "grid_area": null,
            "grid_auto_columns": null,
            "grid_auto_flow": null,
            "grid_auto_rows": null,
            "grid_column": null,
            "grid_gap": null,
            "grid_row": null,
            "grid_template_areas": null,
            "grid_template_columns": null,
            "grid_template_rows": null,
            "height": null,
            "justify_content": null,
            "justify_items": null,
            "left": null,
            "margin": null,
            "max_height": null,
            "max_width": null,
            "min_height": null,
            "min_width": null,
            "object_fit": null,
            "object_position": null,
            "order": null,
            "overflow": null,
            "overflow_x": null,
            "overflow_y": null,
            "padding": null,
            "right": null,
            "top": null,
            "visibility": null,
            "width": null
          }
        },
        "186a4589c23949ba90924cab57aeeb4d": {
          "model_module": "@jupyter-widgets/controls",
          "model_name": "DescriptionStyleModel",
          "model_module_version": "1.5.0",
          "state": {
            "_model_module": "@jupyter-widgets/controls",
            "_model_module_version": "1.5.0",
            "_model_name": "DescriptionStyleModel",
            "_view_count": null,
            "_view_module": "@jupyter-widgets/base",
            "_view_module_version": "1.2.0",
            "_view_name": "StyleView",
            "description_width": ""
          }
        }
      }
    }
  },
  "cells": [
    {
      "cell_type": "code",
      "execution_count": null,
      "metadata": {
        "id": "n0BBnoR4kEGh"
      },
      "outputs": [],
      "source": []
    },
    {
      "cell_type": "code",
      "source": [],
      "metadata": {
        "id": "heeB5dajkKzb"
      },
      "execution_count": null,
      "outputs": []
    },
    {
      "cell_type": "code",
      "source": [
        "# 在一个新的Colab Notebook中开始\n",
        "\n",
        "import torch\n",
        "from torch import nn\n",
        "import torchvision\n",
        "from torchvision import datasets\n",
        "from torchvision.transforms import ToTensor\n",
        "from torch.utils.data import DataLoader\n",
        "\n",
        "# 在 PyTorch_5.ipynb 中修改\n",
        "\n",
        "from torchvision import transforms # 确保导入 transforms\n",
        "\n",
        "# 定义一个包含标准化的、更健壮的预处理流程\n",
        "# FashionMNIST 的均值和标准差都是 0.5\n",
        "transform_with_norm = transforms.Compose([\n",
        "    ToTensor(),\n",
        "    transforms.Normalize(mean=(0.5,), std=(0.5,)) # <--- 添加了这一行！\n",
        "])\n",
        "\n",
        "# 1. 加载 Fashion-MNIST 数据集 (使用新的transform)\n",
        "train_data = datasets.FashionMNIST(\n",
        "    root=\"data\",\n",
        "    train=True,\n",
        "    download=True,\n",
        "    transform=transform_with_norm # <--- 应用新的transform\n",
        ")\n",
        "\n",
        "test_data = datasets.FashionMNIST(\n",
        "    root=\"data\",\n",
        "    train=False,\n",
        "    download=True,\n",
        "    transform=transform_with_norm # <--- 应用新的transform\n",
        ")\n",
        "\n",
        "print(\"数据已使用新的、包含标准化的流程重新加载！\")\n",
        "\n",
        "\n",
        "# 接下来，请你独立完成 DataLoader、模型构建、训练和评估...\n",
        "# ...\n"
      ],
      "metadata": {
        "colab": {
          "base_uri": "https://localhost:8080/"
        },
        "id": "7XhTgv-pkNMf",
        "outputId": "567a7f6d-4039-4bc2-8d27-1a8eb0b75f44"
      },
      "execution_count": 1,
      "outputs": [
        {
          "output_type": "stream",
          "name": "stderr",
          "text": [
            "100%|██████████| 26.4M/26.4M [00:03<00:00, 8.21MB/s]\n",
            "100%|██████████| 29.5k/29.5k [00:00<00:00, 119kB/s]\n",
            "100%|██████████| 4.42M/4.42M [00:01<00:00, 2.58MB/s]\n",
            "100%|██████████| 5.15k/5.15k [00:00<00:00, 10.1MB/s]"
          ]
        },
        {
          "output_type": "stream",
          "name": "stdout",
          "text": [
            "数据已使用新的、包含标准化的流程重新加载！\n"
          ]
        },
        {
          "output_type": "stream",
          "name": "stderr",
          "text": [
            "\n"
          ]
        }
      ]
    },
    {
      "cell_type": "code",
      "source": [
        "import matplotlib.pyplot as plt\n",
        "\n",
        "# --- 让我们随便看一张图片和它的答案 ---\n",
        "image, label = train_data[0]\n",
        "print(f\"\\n第一张图片的形状: {image.shape}\")\n",
        "print(f\"第一张图片的答案 (标签): {label}\")\n",
        "\n",
        "plt.imshow(image.squeeze(), cmap=\"gray\") # .squeeze()是把 [1, 28, 28] 这种多余的维度去掉\n",
        "plt.title(f\"这是一个 '{label}'\")\n",
        "plt.show()"
      ],
      "metadata": {
        "colab": {
          "base_uri": "https://localhost:8080/",
          "height": 654
        },
        "id": "pAgWA-fEkVrK",
        "outputId": "42a8050d-2f48-47eb-d31e-7ab494162da1"
      },
      "execution_count": 2,
      "outputs": [
        {
          "output_type": "stream",
          "name": "stderr",
          "text": [
            "/usr/local/lib/python3.12/dist-packages/IPython/core/pylabtools.py:151: UserWarning: Glyph 36825 (\\N{CJK UNIFIED IDEOGRAPH-8FD9}) missing from font(s) DejaVu Sans.\n",
            "  fig.canvas.print_figure(bytes_io, **kw)\n",
            "/usr/local/lib/python3.12/dist-packages/IPython/core/pylabtools.py:151: UserWarning: Glyph 26159 (\\N{CJK UNIFIED IDEOGRAPH-662F}) missing from font(s) DejaVu Sans.\n",
            "  fig.canvas.print_figure(bytes_io, **kw)\n",
            "/usr/local/lib/python3.12/dist-packages/IPython/core/pylabtools.py:151: UserWarning: Glyph 19968 (\\N{CJK UNIFIED IDEOGRAPH-4E00}) missing from font(s) DejaVu Sans.\n",
            "  fig.canvas.print_figure(bytes_io, **kw)\n",
            "/usr/local/lib/python3.12/dist-packages/IPython/core/pylabtools.py:151: UserWarning: Glyph 20010 (\\N{CJK UNIFIED IDEOGRAPH-4E2A}) missing from font(s) DejaVu Sans.\n",
            "  fig.canvas.print_figure(bytes_io, **kw)\n"
          ]
        },
        {
          "output_type": "stream",
          "name": "stdout",
          "text": [
            "\n",
            "第一张图片的形状: torch.Size([1, 28, 28])\n",
            "第一张图片的答案 (标签): 9\n"
          ]
        },
        {
          "output_type": "display_data",
          "data": {
            "text/plain": [
              "<Figure size 640x480 with 1 Axes>"
            ],
            "image/png": "[encoded data removed]"
          },
          "metadata": {}
        }
      ]
    },
    {
      "cell_type": "code",
      "source": [],
      "metadata": {
        "id": "ZzvZ0GP_kVtn"
      },
      "execution_count": 2,
      "outputs": []
    },
    {
      "cell_type": "code",
      "source": [
        "from torch.utils.data import DataLoader\n",
        "\n",
        "\n",
        "BATCH_SIZE = 32\n",
        "\n",
        "train_dataloader = DataLoader(train_data,batch_size=BATCH_SIZE, shuffle=True)\n",
        "test_dataloader = DataLoader(test_data,batch_size=BATCH_SIZE, shuffle=True)\n"
      ],
      "metadata": {
        "id": "WVOFYuwTkVv2"
      },
      "execution_count": 3,
      "outputs": []
    },
    {
      "cell_type": "code",
      "source": [
        "class FashionMNIST_Model( nn.Module ):\n",
        "  def __init__(self):\n",
        "    super().__init__()\n",
        "\n",
        "    self.conv_block_1 = nn.Sequential(\n",
        "\n",
        "      nn.Conv2d( in_channels=1, out_channels=10, kernel_size=3, stride=1,padding=1 ),\n",
        "      # PyTorch语法详解：`nn.Conv2d`nn.Conv2d(in_channels, out_channels, kernel_size, stride=1, padding=0)\n",
        "      # in_channels (输入通道数): 输入图片的“厚度”。对于灰度图，是1。对于彩色图(RGB)，是3。\n",
        "      # out_channels (输出通道数): 你想要使用多少个不同的卷积核（“手电筒”）。这个数字决定了输出的特征图的“厚度”。\n",
        "      # kernel_size (卷积核大小): “手电筒光斑”的大小。可以是3 (代表3x3) 或 (3, 5)。\n",
        "      # stride (步长): “手电筒”每次移动的格子数。默认为1。\n",
        "      # padding (填充): 在图片的边缘填充一圈0。这可以防止卷积操作后图片尺寸变得太小，并更好地处理边缘信息。\n",
        "\n",
        "      nn.ReLU(),\n",
        "\n",
        "      nn.Conv2d( 10,10, kernel_size=3, stride=1,padding=1 ),\n",
        "\n",
        "      nn.ReLU(),\n",
        "\n",
        "      nn.MaxPool2d( kernel_size=2 )\n",
        "      # 池化层 (nn.MaxPool2d)：高效的“摘要总结器”\n",
        "      # 卷积层产生了大量的特征图，信息量仍然很大。池化层的作用就是对这些特征图进行“降维”或“总结”。\n",
        "      # 核心思想：对特征图的某个小区域，只保留最重要的信息。\n",
        "      # 工作原理 (最大池化 Max Pooling)：\n",
        "      # 在特征图上选定一个窗口（比如2x2）。\n",
        "      # 在这个2x2的区域内，只保留最大的那个值。\n",
        "      # 窗口向右、向下移动，重复这个过程。\n",
        "      # 结果：一张28x28的特征图，经过2x2的最大池化后，会变成一张14x14的新特征图。\n",
        "      # 为什么这么做？\n",
        "      # 减少计算量：显著减小了特征图的尺寸，后续层的参数和计算量都会大幅下降。\n",
        "      # 增强平移不变性：我们只关心某个区域内有没有出现某个特征，而不关心它的精确位置。如果一个特征在2x2的窗口内稍微移动了一下，只要它仍然是最大值，池化后的结果就不会变。这使得模型对物体微小的位移不那么敏感，更加鲁棒。\n",
        "\n",
        "\n",
        "    )\n",
        "\n",
        "\n",
        "\n",
        "    self.classifier = nn.Sequential(\n",
        "\n",
        "      nn.Flatten(),\n",
        "\n",
        "      nn.Linear( in_features=10*14*14, out_features=10 )\n",
        "\n",
        "\n",
        "    )\n",
        "\n",
        "  def forward( self, x):\n",
        "    x = self.conv_block_1(x)\n",
        "    x = self.classifier(x)\n",
        "    return x"
      ],
      "metadata": {
        "id": "T3oEqUizkVyM"
      },
      "execution_count": 4,
      "outputs": []
    },
    {
      "cell_type": "code",
      "source": [],
      "metadata": {
        "id": "r84oNkZdkV0j"
      },
      "execution_count": 4,
      "outputs": []
    },
    {
      "cell_type": "code",
      "source": [
        "# 实例化一个学生，并把它送到GPU上（如果Colab有的话）\n",
        "device = \"cuda\" if torch.cuda.is_available() else \"cpu\"\n",
        "model = FashionMNIST_Model().to(device)\n",
        "\n",
        "print(\"--- 这是我们CNN学生的大脑结构 ---\")\n",
        "print(model)"
      ],
      "metadata": {
        "colab": {
          "base_uri": "https://localhost:8080/"
        },
        "id": "5AumfHSTkV2x",
        "outputId": "cf5e6ac1-ba42-4797-c473-84dc80acb0e7"
      },
      "execution_count": 5,
      "outputs": [
        {
          "output_type": "stream",
          "name": "stdout",
          "text": [
            "--- 这是我们CNN学生的大脑结构 ---\n",
            "FashionMNIST_Model(\n",
            "  (conv_block_1): Sequential(\n",
            "    (0): Conv2d(1, 10, kernel_size=(3, 3), stride=(1, 1), padding=(1, 1))\n",
            "    (1): ReLU()\n",
            "    (2): Conv2d(10, 10, kernel_size=(3, 3), stride=(1, 1), padding=(1, 1))\n",
            "    (3): ReLU()\n",
            "    (4): MaxPool2d(kernel_size=2, stride=2, padding=0, dilation=1, ceil_mode=False)\n",
            "  )\n",
            "  (classifier): Sequential(\n",
            "    (0): Flatten(start_dim=1, end_dim=-1)\n",
            "    (1): Linear(in_features=1960, out_features=10, bias=True)\n",
            "  )\n",
            ")\n"
          ]
        }
      ]
    },
    {
      "cell_type": "code",
      "source": [],
      "metadata": {
        "id": "YV4QR1Q-kV4w"
      },
      "execution_count": 5,
      "outputs": []
    },
    {
      "cell_type": "code",
      "source": [
        "# --- 准备教学工具 ---\n",
        "\n",
        "# 1. 评分标准：最适合多分类问题的老师\n",
        "loss_fn = nn.CrossEntropyLoss()\n",
        "\n",
        "# 2. 反思方法：还是用强大的Adam\n",
        "optimizer = torch.optim.Adam(model.parameters(), lr=0.001)\n",
        "\n",
        "print(\"教学工具准备好了！\")"
      ],
      "metadata": {
        "colab": {
          "base_uri": "https://localhost:8080/"
        },
        "id": "xxyETp2okV7J",
        "outputId": "85963380-c077-4a26-f345-a7366e4b2d3c"
      },
      "execution_count": 6,
      "outputs": [
        {
          "output_type": "stream",
          "name": "stdout",
          "text": [
            "教学工具准备好了！\n"
          ]
        }
      ]
    },
    {
      "cell_type": "code",
      "source": [],
      "metadata": {
        "id": "QJ66uL3qkNnY"
      },
      "execution_count": 6,
      "outputs": []
    },
    {
      "cell_type": "code",
      "source": [
        "from tqdm.auto import tqdm # 这是一个能显示漂亮进度条的工具\n",
        "\n",
        "# --- 开始上课 ---\n",
        "epochs = 3 # 对于这个任务，学3遍效果就已经很好了\n",
        "print(\"--- 教学开始 ---\")\n",
        "\n",
        "for epoch in tqdm(range(epochs)):\n",
        "    # --- 训练 ---\n",
        "    model.train()\n",
        "    train_loss, train_acc = 0, 0\n",
        "    for batch, (X, y) in enumerate(train_dataloader):\n",
        "        # 把数据也送到GPU\n",
        "        X, y = X.to(device), y.to(device)\n",
        "\n",
        "        # 1. 学生做题\n",
        "        y_pred = model(X)\n",
        "\n",
        "        # 2. 老师评分\n",
        "        loss = loss_fn(y_pred, y)\n",
        "        train_loss += loss.item()\n",
        "\n",
        "        # 计算准确率\n",
        "        y_pred_class = torch.argmax(torch.softmax(y_pred, dim=1), dim=1)\n",
        "        train_acc += (y_pred_class == y).sum().item() / len(y_pred)\n",
        "\n",
        "        # 3. 学生反思与调整\n",
        "        optimizer.zero_grad()\n",
        "        loss.backward()\n",
        "        optimizer.step()\n",
        "\n",
        "    # 计算平均损失和准确率\n",
        "    train_loss /= len(train_dataloader)\n",
        "    train_acc /= len(train_dataloader)\n",
        "\n",
        "    print(f\"第 {epoch+1} 遍学习成果 -> 训练差距(Loss): {train_loss:.4f} | 训练准确率: {train_acc*100:.2f}%\")\n",
        "\n",
        "print(\"--- 教学结束 ---\")"
      ],
      "metadata": {
        "colab": {
          "base_uri": "https://localhost:8080/",
          "height": 141,
          "referenced_widgets": [
            "1a7c4d7694ac4424b2e6f0498cb58a1d",
            "44d2e6b3681d4dcf8b05a9fffd363a93",
            "8ce950b0df6a4abf861d05ce22ff8a76",
            "bc6752b4cbd947b3aa1803079d2222a7",
            "309a83cacff14de1a7b1a7c64281583f",
            "6f64ffd133ac4093b49d122ddfef5fcd",
            "b20d42ee90a447409299614d0a096ea1",
            "591f2af683904ff0b21b7f7c834cfac3",
            "b52c277307794b42b18c5a1af4657c32",
            "7922843dd97442bcb41edb2cbefc3eeb",
            "186a4589c23949ba90924cab57aeeb4d"
          ]
        },
        "id": "s0CJBSG4kNy0",
        "outputId": "d1770ef5-fd24-4820-9fc7-a7df0506025b"
      },
      "execution_count": 7,
      "outputs": [
        {
          "output_type": "stream",
          "name": "stdout",
          "text": [
            "--- 教学开始 ---\n"
          ]
        },
        {
          "output_type": "display_data",
          "data": {
            "text/plain": [
              "  0%|          | 0/3 [00:00<?, ?it/s]"
            ],
            "application/vnd.jupyter.widget-view+json": {
              "version_major": 2,
              "version_minor": 0,
              "model_id": "1a7c4d7694ac4424b2e6f0498cb58a1d"
            }
          },
          "metadata": {}
        },
        {
          "output_type": "stream",
          "name": "stdout",
          "text": [
            "第 1 遍学习成果 -> 训练差距(Loss): 0.4243 | 训练准确率: 85.07%\n",
            "第 2 遍学习成果 -> 训练差距(Loss): 0.2905 | 训练准确率: 89.78%\n",
            "第 3 遍学习成果 -> 训练差距(Loss): 0.2539 | 训练准确率: 91.01%\n",
            "--- 教学结束 ---\n"
          ]
        }
      ]
    },
    {
      "cell_type": "code",
      "source": [],
      "metadata": {
        "id": "De4YiY78kOMd"
      },
      "execution_count": 7,
      "outputs": []
    },
    {
      "cell_type": "code",
      "source": [
        "# --- 毕业统考 ---\n",
        "model.eval()\n",
        "test_loss, test_acc = 0, 0\n",
        "with torch.no_grad(): # 进入考试模式，不反思\n",
        "    for X, y in test_dataloader:\n",
        "        X, y = X.to(device), y.to(device)\n",
        "        test_pred = model(X)\n",
        "        test_loss += loss_fn(test_pred, y).item()\n",
        "        test_acc += (torch.argmax(test_pred, dim=1) == y).sum().item() / len(test_pred)\n",
        "\n",
        "    test_loss /= len(test_dataloader)\n",
        "    test_acc /= len(test_dataloader)\n",
        "\n",
        "print(f\"\\n--- 毕业考试成绩 ---\\n考试差距(Loss): {test_loss:.4f} | 考试准确率: {test_acc*100:.2f}%\")\n",
        "\n",
        "# --- 让我们随机抽几张卷子，看看它答得怎么样 ---\n",
        "import random\n",
        "test_samples = []\n",
        "test_labels = []\n",
        "for sample, label in random.sample(list(test_data), k=9):\n",
        "    test_samples.append(sample)\n",
        "    test_labels.append(label)\n",
        "\n",
        "pred_classes = []\n",
        "model.eval()\n",
        "with torch.no_grad():\n",
        "    for sample in test_samples:\n",
        "        pred_logit = model(sample.unsqueeze(0).to(device))\n",
        "        pred_prob = torch.softmax(pred_logit.squeeze(), dim=0)\n",
        "        pred_classes.append(torch.argmax(pred_prob).cpu().item())\n",
        "\n",
        "plt.figure(figsize=(9, 9))\n",
        "for i, sample in enumerate(test_samples):\n",
        "    plt.subplot(3, 3, i+1)\n",
        "    plt.imshow(sample.squeeze(), cmap=\"gray\")\n",
        "    title_text = f\"真实答案: {test_labels[i]} | AI猜: {pred_classes[i]}\"\n",
        "    # 如果猜对了是绿色，猜错了是红色\n",
        "    if test_labels[i] == pred_classes[i]:\n",
        "        plt.title(title_text, c=\"g\")\n",
        "    else:\n",
        "        plt.title(title_text, c=\"r\")\n",
        "    plt.axis(False)\n",
        "plt.show()"
      ],
      "metadata": {
        "colab": {
          "base_uri": "https://localhost:8080/",
          "height": 991
        },
        "id": "MJb25To6kOW2",
        "outputId": "bb42a2ac-7e38-4ccd-adcc-307b22f3b715"
      },
      "execution_count": 8,
      "outputs": [
        {
          "output_type": "stream",
          "name": "stdout",
          "text": [
            "\n",
            "--- 毕业考试成绩 ---\n",
            "考试差距(Loss): 0.2692 | 考试准确率: 90.28%\n"
          ]
        },
        {
          "output_type": "stream",
          "name": "stderr",
          "text": [
            "/usr/local/lib/python3.12/dist-packages/IPython/core/pylabtools.py:151: UserWarning: Glyph 30495 (\\N{CJK UNIFIED IDEOGRAPH-771F}) missing from font(s) DejaVu Sans.\n",
            "  fig.canvas.print_figure(bytes_io, **kw)\n",
            "/usr/local/lib/python3.12/dist-packages/IPython/core/pylabtools.py:151: UserWarning: Glyph 23454 (\\N{CJK UNIFIED IDEOGRAPH-5B9E}) missing from font(s) DejaVu Sans.\n",
            "  fig.canvas.print_figure(bytes_io, **kw)\n",
            "/usr/local/lib/python3.12/dist-packages/IPython/core/pylabtools.py:151: UserWarning: Glyph 31572 (\\N{CJK UNIFIED IDEOGRAPH-7B54}) missing from font(s) DejaVu Sans.\n",
            "  fig.canvas.print_figure(bytes_io, **kw)\n",
            "/usr/local/lib/python3.12/dist-packages/IPython/core/pylabtools.py:151: UserWarning: Glyph 26696 (\\N{CJK UNIFIED IDEOGRAPH-6848}) missing from font(s) DejaVu Sans.\n",
            "  fig.canvas.print_figure(bytes_io, **kw)\n",
            "/usr/local/lib/python3.12/dist-packages/IPython/core/pylabtools.py:151: UserWarning: Glyph 29468 (\\N{CJK UNIFIED IDEOGRAPH-731C}) missing from font(s) DejaVu Sans.\n",
            "  fig.canvas.print_figure(bytes_io, **kw)\n"
          ]
        },
        {
          "output_type": "display_data",
          "data": {
            "text/plain": [
              "<Figure size 900x900 with 9 Axes>"
            ],
            "image/png": "[encoded data removed]"
          },
          "metadata": {}
        }
      ]
    },
    {
      "cell_type": "code",
      "source": [],
      "metadata": {
        "id": "d1PChKv8kOco"
      },
      "execution_count": 8,
      "outputs": []
    },
    {
      "cell_type": "code",
      "source": [
        "# 1. 定义类别名称 (必须和Fashion-MNIST的官方顺序一致)\n",
        "class_names = [\n",
        "    \"T-shirt/top\",\n",
        "    \"Trouser\",\n",
        "    \"Pullover\",\n",
        "    \"Dress\",\n",
        "    \"Coat\",\n",
        "    \"Sandal\",\n",
        "    \"Shirt\",\n",
        "    \"Sneaker\",\n",
        "    \"Bag\",\n",
        "    \"Ankle boot\"\n",
        "]\n",
        "\n",
        "# 2. 定义模型的保存路径\n",
        "MODEL_SAVE_PATH = \"fashion_mnist_cnn_model.pth\"\n",
        "\n",
        "# 3. 保存模型的状态字典 (state_dict)\n",
        "print(f\"正在将模型保存到: {MODEL_SAVE_PATH}\")\n",
        "# 假设你训练好的模型实例叫 model\n",
        "torch.save(obj=model.state_dict(), f=MODEL_SAVE_PATH)\n",
        "print(\"模型保存成功！\")\n",
        "\n",
        "# 4. 从Colab下载模型文件到你的本地电脑\n",
        "from google.colab import files\n",
        "files.download(MODEL_SAVE_PATH)\n"
      ],
      "metadata": {
        "id": "rucF3BXBkOgd",
        "colab": {
          "base_uri": "https://localhost:8080/",
          "height": 54
        },
        "outputId": "835b875b-81d4-4928-fcc3-c5ddc3834871"
      },
      "execution_count": 9,
      "outputs": [
        {
          "output_type": "stream",
          "name": "stdout",
          "text": [
            "正在将模型保存到: fashion_mnist_cnn_model.pth\n",
            "模型保存成功！\n"
          ]
        },
        {
          "output_type": "display_data",
          "data": {
            "text/plain": [
              "<IPython.core.display.Javascript object>"
            ],
            "application/javascript": [
              "\n",
              "    async function download(id, filename, size) {\n",
              "      if (!google.colab.kernel.accessAllowed) {\n",
              "        return;\n",
              "      }\n",
              "      const div = document.createElement('div');\n",
              "      const label = document.createElement('label');\n",
              "      label.textContent = `Downloading \"${filename}\": `;\n",
              "      div.appendChild(label);\n",
              "      const progress = document.createElement('progress');\n",
              "      progress.max = size;\n",
              "      div.appendChild(progress);\n",
              "      document.body.appendChild(div);\n",
              "\n",
              "      const buffers = [];\n",
              "      let downloaded = 0;\n",
              "\n",
              "      const channel = await google.colab.kernel.comms.open(id);\n",
              "      // Send a message to notify the kernel that we're ready.\n",
              "      channel.send({})\n",
              "\n",
              "      for await (const message of channel.messages) {\n",
              "        // Send a message to notify the kernel that we're ready.\n",
              "        channel.send({})\n",
              "        if (message.buffers) {\n",
              "          for (const buffer of message.buffers) {\n",
              "            buffers.push(buffer);\n",
              "            downloaded += buffer.byteLength;\n",
              "            progress.value = downloaded;\n",
              "          }\n",
              "        }\n",
              "      }\n",
              "      const blob = new Blob(buffers, {type: 'application/binary'});\n",
              "      const a = document.createElement('a');\n",
              "      a.href = window.URL.createObjectURL(blob);\n",
              "      a.download = filename;\n",
              "      div.appendChild(a);\n",
              "      a.click();\n",
              "      div.remove();\n",
              "    }\n",
              "  "
            ]
          },
          "metadata": {}
        },
        {
          "output_type": "display_data",
          "data": {
            "text/plain": [
              "<IPython.core.display.Javascript object>"
            ],
            "application/javascript": [
              "download(\"download_8a81e1c3-07f3-4ad3-a55c-9311a8950ec1\", \"fashion_mnist_cnn_model.pth\", 85909)"
            ]
          },
          "metadata": {}
        }
      ]
    },
    {
      "cell_type": "code",
      "source": [],
      "metadata": {
        "id": "QCwtUM64kOjo"
      },
      "execution_count": 9,
      "outputs": []
    },
    {
      "cell_type": "code",
      "source": [],
      "metadata": {
        "id": "AEXz3WaokOmj"
      },
      "execution_count": 9,
      "outputs": []
    },
    {
      "cell_type": "code",
      "source": [],
      "metadata": {
        "id": "8a_P7fgHkOsR"
      },
      "execution_count": 9,
      "outputs": []
    },
    {
      "cell_type": "code",
      "source": [],
      "metadata": {
        "id": "6we-lAu8kReM"
      },
      "execution_count": 9,
      "outputs": []
    }
  ]
}